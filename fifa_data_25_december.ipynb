{
 "cells": [
  {
   "cell_type": "markdown",
   "metadata": {},
   "source": [
    "# importing libraries"
   ]
  },
  {
   "cell_type": "code",
   "execution_count": 1,
   "metadata": {
    "ExecuteTime": {
     "end_time": "2021-12-25T08:46:02.492425Z",
     "start_time": "2021-12-25T08:46:00.527839Z"
    }
   },
   "outputs": [],
   "source": [
    "import pandas as pd\n",
    "import numpy as np\n",
    "pd.set_option('display.max_rows', 100)\n",
    "pd.set_option('display.max_columns', 100)\n",
    "import xgboost as xgb\n",
    "from xgboost import XGBRegressor"
   ]
  },
  {
   "cell_type": "code",
   "execution_count": 2,
   "metadata": {
    "ExecuteTime": {
     "end_time": "2021-12-25T08:46:02.505347Z",
     "start_time": "2021-12-25T08:46:02.497339Z"
    }
   },
   "outputs": [],
   "source": [
    "import pickle"
   ]
  },
  {
   "cell_type": "code",
   "execution_count": 3,
   "metadata": {
    "ExecuteTime": {
     "end_time": "2021-12-25T08:46:02.629440Z",
     "start_time": "2021-12-25T08:46:02.510348Z"
    }
   },
   "outputs": [],
   "source": [
    "#pd.options.display"
   ]
  },
  {
   "cell_type": "code",
   "execution_count": 4,
   "metadata": {
    "ExecuteTime": {
     "end_time": "2021-12-25T08:46:03.410065Z",
     "start_time": "2021-12-25T08:46:02.642443Z"
    }
   },
   "outputs": [
    {
     "name": "stdout",
     "output_type": "stream",
     "text": [
      "(16710, 65)\n",
      "Index(['ID', 'Name', 'Age', 'Photo', 'Nationality', 'Flag', 'Overall',\n",
      "       'Potential', 'Club', 'Club Logo', 'Value', 'Wage', 'Special',\n",
      "       'Preferred Foot', 'International Reputation', 'Weak Foot',\n",
      "       'Skill Moves', 'Work Rate', 'Body Type', 'Real Face', 'Position',\n",
      "       'Jersey Number', 'Joined', 'Loaned From', 'Contract Valid Until',\n",
      "       'Height', 'Weight', 'Crossing', 'Finishing', 'HeadingAccuracy',\n",
      "       'ShortPassing', 'Volleys', 'Dribbling', 'Curve', 'FKAccuracy',\n",
      "       'LongPassing', 'BallControl', 'Acceleration', 'SprintSpeed', 'Agility',\n",
      "       'Reactions', 'Balance', 'ShotPower', 'Jumping', 'Stamina', 'Strength',\n",
      "       'LongShots', 'Aggression', 'Interceptions', 'Positioning', 'Vision',\n",
      "       'Penalties', 'Composure', 'Marking', 'StandingTackle', 'SlidingTackle',\n",
      "       'GKDiving', 'GKHandling', 'GKKicking', 'GKPositioning', 'GKReflexes',\n",
      "       'Best Position', 'Best Overall Rating', 'Release Clause',\n",
      "       'DefensiveAwareness'],\n",
      "      dtype='object')\n"
     ]
    },
    {
     "data": {
      "text/html": [
       "<div>\n",
       "<style scoped>\n",
       "    .dataframe tbody tr th:only-of-type {\n",
       "        vertical-align: middle;\n",
       "    }\n",
       "\n",
       "    .dataframe tbody tr th {\n",
       "        vertical-align: top;\n",
       "    }\n",
       "\n",
       "    .dataframe thead th {\n",
       "        text-align: right;\n",
       "    }\n",
       "</style>\n",
       "<table border=\"1\" class=\"dataframe\">\n",
       "  <thead>\n",
       "    <tr style=\"text-align: right;\">\n",
       "      <th></th>\n",
       "      <th>ID</th>\n",
       "      <th>Name</th>\n",
       "      <th>Age</th>\n",
       "      <th>Photo</th>\n",
       "      <th>Nationality</th>\n",
       "      <th>Flag</th>\n",
       "      <th>Overall</th>\n",
       "      <th>Potential</th>\n",
       "      <th>Club</th>\n",
       "      <th>Club Logo</th>\n",
       "      <th>Value</th>\n",
       "      <th>Wage</th>\n",
       "      <th>Special</th>\n",
       "      <th>Preferred Foot</th>\n",
       "      <th>International Reputation</th>\n",
       "      <th>Weak Foot</th>\n",
       "      <th>Skill Moves</th>\n",
       "      <th>Work Rate</th>\n",
       "      <th>Body Type</th>\n",
       "      <th>Real Face</th>\n",
       "      <th>Position</th>\n",
       "      <th>Jersey Number</th>\n",
       "      <th>Joined</th>\n",
       "      <th>Loaned From</th>\n",
       "      <th>Contract Valid Until</th>\n",
       "      <th>Height</th>\n",
       "      <th>Weight</th>\n",
       "      <th>Crossing</th>\n",
       "      <th>Finishing</th>\n",
       "      <th>HeadingAccuracy</th>\n",
       "      <th>ShortPassing</th>\n",
       "      <th>Volleys</th>\n",
       "      <th>Dribbling</th>\n",
       "      <th>Curve</th>\n",
       "      <th>FKAccuracy</th>\n",
       "      <th>LongPassing</th>\n",
       "      <th>BallControl</th>\n",
       "      <th>Acceleration</th>\n",
       "      <th>SprintSpeed</th>\n",
       "      <th>Agility</th>\n",
       "      <th>Reactions</th>\n",
       "      <th>Balance</th>\n",
       "      <th>ShotPower</th>\n",
       "      <th>Jumping</th>\n",
       "      <th>Stamina</th>\n",
       "      <th>Strength</th>\n",
       "      <th>LongShots</th>\n",
       "      <th>Aggression</th>\n",
       "      <th>Interceptions</th>\n",
       "      <th>Positioning</th>\n",
       "      <th>Vision</th>\n",
       "      <th>Penalties</th>\n",
       "      <th>Composure</th>\n",
       "      <th>Marking</th>\n",
       "      <th>StandingTackle</th>\n",
       "      <th>SlidingTackle</th>\n",
       "      <th>GKDiving</th>\n",
       "      <th>GKHandling</th>\n",
       "      <th>GKKicking</th>\n",
       "      <th>GKPositioning</th>\n",
       "      <th>GKReflexes</th>\n",
       "      <th>Best Position</th>\n",
       "      <th>Best Overall Rating</th>\n",
       "      <th>Release Clause</th>\n",
       "      <th>DefensiveAwareness</th>\n",
       "    </tr>\n",
       "  </thead>\n",
       "  <tbody>\n",
       "    <tr>\n",
       "      <th>0</th>\n",
       "      <td>212198</td>\n",
       "      <td>Bruno Fernandes</td>\n",
       "      <td>26</td>\n",
       "      <td>https://cdn.sofifa.com/players/212/198/22_60.png</td>\n",
       "      <td>Portugal</td>\n",
       "      <td>https://cdn.sofifa.com/flags/pt.png</td>\n",
       "      <td>88</td>\n",
       "      <td>89</td>\n",
       "      <td>Manchester United</td>\n",
       "      <td>https://cdn.sofifa.com/teams/11/30.png</td>\n",
       "      <td>€107.5M</td>\n",
       "      <td>€250K</td>\n",
       "      <td>2341</td>\n",
       "      <td>Right</td>\n",
       "      <td>3.0</td>\n",
       "      <td>3.0</td>\n",
       "      <td>4.0</td>\n",
       "      <td>High/ High</td>\n",
       "      <td>Unique</td>\n",
       "      <td>Yes</td>\n",
       "      <td>&lt;span class=\"pos pos18\"&gt;CAM</td>\n",
       "      <td>18.0</td>\n",
       "      <td>Jan 30, 2020</td>\n",
       "      <td>NaN</td>\n",
       "      <td>2025</td>\n",
       "      <td>179cm</td>\n",
       "      <td>69kg</td>\n",
       "      <td>87.0</td>\n",
       "      <td>83.0</td>\n",
       "      <td>64.0</td>\n",
       "      <td>91.0</td>\n",
       "      <td>87.0</td>\n",
       "      <td>83.0</td>\n",
       "      <td>87.0</td>\n",
       "      <td>87.0</td>\n",
       "      <td>88.0</td>\n",
       "      <td>87.0</td>\n",
       "      <td>77.0</td>\n",
       "      <td>73.0</td>\n",
       "      <td>80.0</td>\n",
       "      <td>91.0</td>\n",
       "      <td>79.0</td>\n",
       "      <td>89.0</td>\n",
       "      <td>73.0</td>\n",
       "      <td>91.0</td>\n",
       "      <td>70.0</td>\n",
       "      <td>89.0</td>\n",
       "      <td>78.0</td>\n",
       "      <td>66.0</td>\n",
       "      <td>87.0</td>\n",
       "      <td>90.0</td>\n",
       "      <td>91.0</td>\n",
       "      <td>87.0</td>\n",
       "      <td>NaN</td>\n",
       "      <td>73.0</td>\n",
       "      <td>65.0</td>\n",
       "      <td>12.0</td>\n",
       "      <td>14.0</td>\n",
       "      <td>15.0</td>\n",
       "      <td>8.0</td>\n",
       "      <td>14.0</td>\n",
       "      <td>CAM</td>\n",
       "      <td>88.0</td>\n",
       "      <td>€206.9M</td>\n",
       "      <td>72.0</td>\n",
       "    </tr>\n",
       "    <tr>\n",
       "      <th>1</th>\n",
       "      <td>209658</td>\n",
       "      <td>L. Goretzka</td>\n",
       "      <td>26</td>\n",
       "      <td>https://cdn.sofifa.com/players/209/658/22_60.png</td>\n",
       "      <td>Germany</td>\n",
       "      <td>https://cdn.sofifa.com/flags/de.png</td>\n",
       "      <td>87</td>\n",
       "      <td>88</td>\n",
       "      <td>FC Bayern München</td>\n",
       "      <td>https://cdn.sofifa.com/teams/21/30.png</td>\n",
       "      <td>€93M</td>\n",
       "      <td>€140K</td>\n",
       "      <td>2314</td>\n",
       "      <td>Right</td>\n",
       "      <td>4.0</td>\n",
       "      <td>4.0</td>\n",
       "      <td>3.0</td>\n",
       "      <td>High/ Medium</td>\n",
       "      <td>Unique</td>\n",
       "      <td>Yes</td>\n",
       "      <td>&lt;span class=\"pos pos11\"&gt;LDM</td>\n",
       "      <td>8.0</td>\n",
       "      <td>Jul 1, 2018</td>\n",
       "      <td>NaN</td>\n",
       "      <td>2026</td>\n",
       "      <td>189cm</td>\n",
       "      <td>82kg</td>\n",
       "      <td>75.0</td>\n",
       "      <td>82.0</td>\n",
       "      <td>86.0</td>\n",
       "      <td>86.0</td>\n",
       "      <td>69.0</td>\n",
       "      <td>84.0</td>\n",
       "      <td>76.0</td>\n",
       "      <td>75.0</td>\n",
       "      <td>84.0</td>\n",
       "      <td>87.0</td>\n",
       "      <td>78.0</td>\n",
       "      <td>83.0</td>\n",
       "      <td>76.0</td>\n",
       "      <td>88.0</td>\n",
       "      <td>71.0</td>\n",
       "      <td>85.0</td>\n",
       "      <td>79.0</td>\n",
       "      <td>88.0</td>\n",
       "      <td>88.0</td>\n",
       "      <td>86.0</td>\n",
       "      <td>81.0</td>\n",
       "      <td>86.0</td>\n",
       "      <td>85.0</td>\n",
       "      <td>84.0</td>\n",
       "      <td>60.0</td>\n",
       "      <td>82.0</td>\n",
       "      <td>NaN</td>\n",
       "      <td>85.0</td>\n",
       "      <td>77.0</td>\n",
       "      <td>13.0</td>\n",
       "      <td>8.0</td>\n",
       "      <td>15.0</td>\n",
       "      <td>11.0</td>\n",
       "      <td>9.0</td>\n",
       "      <td>CM</td>\n",
       "      <td>87.0</td>\n",
       "      <td>€160.4M</td>\n",
       "      <td>74.0</td>\n",
       "    </tr>\n",
       "    <tr>\n",
       "      <th>2</th>\n",
       "      <td>176580</td>\n",
       "      <td>L. Suárez</td>\n",
       "      <td>34</td>\n",
       "      <td>https://cdn.sofifa.com/players/176/580/22_60.png</td>\n",
       "      <td>Uruguay</td>\n",
       "      <td>https://cdn.sofifa.com/flags/uy.png</td>\n",
       "      <td>88</td>\n",
       "      <td>88</td>\n",
       "      <td>Atlético de Madrid</td>\n",
       "      <td>https://cdn.sofifa.com/teams/240/30.png</td>\n",
       "      <td>€44.5M</td>\n",
       "      <td>€135K</td>\n",
       "      <td>2307</td>\n",
       "      <td>Right</td>\n",
       "      <td>5.0</td>\n",
       "      <td>4.0</td>\n",
       "      <td>3.0</td>\n",
       "      <td>High/ Medium</td>\n",
       "      <td>Unique</td>\n",
       "      <td>Yes</td>\n",
       "      <td>&lt;span class=\"pos pos24\"&gt;RS</td>\n",
       "      <td>9.0</td>\n",
       "      <td>Sep 25, 2020</td>\n",
       "      <td>NaN</td>\n",
       "      <td>2022</td>\n",
       "      <td>182cm</td>\n",
       "      <td>83kg</td>\n",
       "      <td>80.0</td>\n",
       "      <td>93.0</td>\n",
       "      <td>84.0</td>\n",
       "      <td>83.0</td>\n",
       "      <td>90.0</td>\n",
       "      <td>83.0</td>\n",
       "      <td>86.0</td>\n",
       "      <td>82.0</td>\n",
       "      <td>77.0</td>\n",
       "      <td>86.0</td>\n",
       "      <td>76.0</td>\n",
       "      <td>69.0</td>\n",
       "      <td>75.0</td>\n",
       "      <td>92.0</td>\n",
       "      <td>78.0</td>\n",
       "      <td>89.0</td>\n",
       "      <td>69.0</td>\n",
       "      <td>78.0</td>\n",
       "      <td>85.0</td>\n",
       "      <td>88.0</td>\n",
       "      <td>87.0</td>\n",
       "      <td>41.0</td>\n",
       "      <td>91.0</td>\n",
       "      <td>84.0</td>\n",
       "      <td>83.0</td>\n",
       "      <td>87.0</td>\n",
       "      <td>NaN</td>\n",
       "      <td>45.0</td>\n",
       "      <td>38.0</td>\n",
       "      <td>27.0</td>\n",
       "      <td>25.0</td>\n",
       "      <td>31.0</td>\n",
       "      <td>33.0</td>\n",
       "      <td>37.0</td>\n",
       "      <td>ST</td>\n",
       "      <td>88.0</td>\n",
       "      <td>€91.2M</td>\n",
       "      <td>42.0</td>\n",
       "    </tr>\n",
       "    <tr>\n",
       "      <th>3</th>\n",
       "      <td>192985</td>\n",
       "      <td>K. De Bruyne</td>\n",
       "      <td>30</td>\n",
       "      <td>https://cdn.sofifa.com/players/192/985/22_60.png</td>\n",
       "      <td>Belgium</td>\n",
       "      <td>https://cdn.sofifa.com/flags/be.png</td>\n",
       "      <td>91</td>\n",
       "      <td>91</td>\n",
       "      <td>Manchester City</td>\n",
       "      <td>https://cdn.sofifa.com/teams/10/30.png</td>\n",
       "      <td>€125.5M</td>\n",
       "      <td>€350K</td>\n",
       "      <td>2304</td>\n",
       "      <td>Right</td>\n",
       "      <td>4.0</td>\n",
       "      <td>5.0</td>\n",
       "      <td>4.0</td>\n",
       "      <td>High/ High</td>\n",
       "      <td>Unique</td>\n",
       "      <td>Yes</td>\n",
       "      <td>&lt;span class=\"pos pos13\"&gt;RCM</td>\n",
       "      <td>17.0</td>\n",
       "      <td>Aug 30, 2015</td>\n",
       "      <td>NaN</td>\n",
       "      <td>2025</td>\n",
       "      <td>181cm</td>\n",
       "      <td>70kg</td>\n",
       "      <td>94.0</td>\n",
       "      <td>82.0</td>\n",
       "      <td>55.0</td>\n",
       "      <td>94.0</td>\n",
       "      <td>82.0</td>\n",
       "      <td>88.0</td>\n",
       "      <td>85.0</td>\n",
       "      <td>83.0</td>\n",
       "      <td>93.0</td>\n",
       "      <td>91.0</td>\n",
       "      <td>76.0</td>\n",
       "      <td>76.0</td>\n",
       "      <td>79.0</td>\n",
       "      <td>91.0</td>\n",
       "      <td>78.0</td>\n",
       "      <td>91.0</td>\n",
       "      <td>63.0</td>\n",
       "      <td>89.0</td>\n",
       "      <td>74.0</td>\n",
       "      <td>91.0</td>\n",
       "      <td>76.0</td>\n",
       "      <td>66.0</td>\n",
       "      <td>88.0</td>\n",
       "      <td>94.0</td>\n",
       "      <td>83.0</td>\n",
       "      <td>89.0</td>\n",
       "      <td>NaN</td>\n",
       "      <td>65.0</td>\n",
       "      <td>53.0</td>\n",
       "      <td>15.0</td>\n",
       "      <td>13.0</td>\n",
       "      <td>5.0</td>\n",
       "      <td>10.0</td>\n",
       "      <td>13.0</td>\n",
       "      <td>CM</td>\n",
       "      <td>91.0</td>\n",
       "      <td>€232.2M</td>\n",
       "      <td>68.0</td>\n",
       "    </tr>\n",
       "    <tr>\n",
       "      <th>4</th>\n",
       "      <td>224334</td>\n",
       "      <td>M. Acuña</td>\n",
       "      <td>29</td>\n",
       "      <td>https://cdn.sofifa.com/players/224/334/22_60.png</td>\n",
       "      <td>Argentina</td>\n",
       "      <td>https://cdn.sofifa.com/flags/ar.png</td>\n",
       "      <td>84</td>\n",
       "      <td>84</td>\n",
       "      <td>Sevilla FC</td>\n",
       "      <td>https://cdn.sofifa.com/teams/481/30.png</td>\n",
       "      <td>€37M</td>\n",
       "      <td>€45K</td>\n",
       "      <td>2292</td>\n",
       "      <td>Left</td>\n",
       "      <td>2.0</td>\n",
       "      <td>3.0</td>\n",
       "      <td>4.0</td>\n",
       "      <td>High/ High</td>\n",
       "      <td>Stocky (170-185)</td>\n",
       "      <td>No</td>\n",
       "      <td>&lt;span class=\"pos pos7\"&gt;LB</td>\n",
       "      <td>19.0</td>\n",
       "      <td>Sep 14, 2020</td>\n",
       "      <td>NaN</td>\n",
       "      <td>2024</td>\n",
       "      <td>172cm</td>\n",
       "      <td>69kg</td>\n",
       "      <td>87.0</td>\n",
       "      <td>66.0</td>\n",
       "      <td>58.0</td>\n",
       "      <td>82.0</td>\n",
       "      <td>68.0</td>\n",
       "      <td>87.0</td>\n",
       "      <td>88.0</td>\n",
       "      <td>75.0</td>\n",
       "      <td>78.0</td>\n",
       "      <td>88.0</td>\n",
       "      <td>77.0</td>\n",
       "      <td>76.0</td>\n",
       "      <td>83.0</td>\n",
       "      <td>83.0</td>\n",
       "      <td>90.0</td>\n",
       "      <td>82.0</td>\n",
       "      <td>63.0</td>\n",
       "      <td>90.0</td>\n",
       "      <td>80.0</td>\n",
       "      <td>81.0</td>\n",
       "      <td>84.0</td>\n",
       "      <td>79.0</td>\n",
       "      <td>81.0</td>\n",
       "      <td>82.0</td>\n",
       "      <td>76.0</td>\n",
       "      <td>87.0</td>\n",
       "      <td>NaN</td>\n",
       "      <td>84.0</td>\n",
       "      <td>82.0</td>\n",
       "      <td>8.0</td>\n",
       "      <td>14.0</td>\n",
       "      <td>13.0</td>\n",
       "      <td>13.0</td>\n",
       "      <td>14.0</td>\n",
       "      <td>LB</td>\n",
       "      <td>84.0</td>\n",
       "      <td>€77.7M</td>\n",
       "      <td>80.0</td>\n",
       "    </tr>\n",
       "  </tbody>\n",
       "</table>\n",
       "</div>"
      ],
      "text/plain": [
       "       ID             Name  Age  \\\n",
       "0  212198  Bruno Fernandes   26   \n",
       "1  209658      L. Goretzka   26   \n",
       "2  176580        L. Suárez   34   \n",
       "3  192985     K. De Bruyne   30   \n",
       "4  224334         M. Acuña   29   \n",
       "\n",
       "                                              Photo Nationality  \\\n",
       "0  https://cdn.sofifa.com/players/212/198/22_60.png    Portugal   \n",
       "1  https://cdn.sofifa.com/players/209/658/22_60.png     Germany   \n",
       "2  https://cdn.sofifa.com/players/176/580/22_60.png     Uruguay   \n",
       "3  https://cdn.sofifa.com/players/192/985/22_60.png     Belgium   \n",
       "4  https://cdn.sofifa.com/players/224/334/22_60.png   Argentina   \n",
       "\n",
       "                                  Flag  Overall  Potential  \\\n",
       "0  https://cdn.sofifa.com/flags/pt.png       88         89   \n",
       "1  https://cdn.sofifa.com/flags/de.png       87         88   \n",
       "2  https://cdn.sofifa.com/flags/uy.png       88         88   \n",
       "3  https://cdn.sofifa.com/flags/be.png       91         91   \n",
       "4  https://cdn.sofifa.com/flags/ar.png       84         84   \n",
       "\n",
       "                 Club                                Club Logo    Value  \\\n",
       "0   Manchester United   https://cdn.sofifa.com/teams/11/30.png  €107.5M   \n",
       "1   FC Bayern München   https://cdn.sofifa.com/teams/21/30.png     €93M   \n",
       "2  Atlético de Madrid  https://cdn.sofifa.com/teams/240/30.png   €44.5M   \n",
       "3     Manchester City   https://cdn.sofifa.com/teams/10/30.png  €125.5M   \n",
       "4          Sevilla FC  https://cdn.sofifa.com/teams/481/30.png     €37M   \n",
       "\n",
       "    Wage  Special Preferred Foot  International Reputation  Weak Foot  \\\n",
       "0  €250K     2341          Right                       3.0        3.0   \n",
       "1  €140K     2314          Right                       4.0        4.0   \n",
       "2  €135K     2307          Right                       5.0        4.0   \n",
       "3  €350K     2304          Right                       4.0        5.0   \n",
       "4   €45K     2292           Left                       2.0        3.0   \n",
       "\n",
       "   Skill Moves     Work Rate         Body Type Real Face  \\\n",
       "0          4.0    High/ High            Unique       Yes   \n",
       "1          3.0  High/ Medium            Unique       Yes   \n",
       "2          3.0  High/ Medium            Unique       Yes   \n",
       "3          4.0    High/ High            Unique       Yes   \n",
       "4          4.0    High/ High  Stocky (170-185)        No   \n",
       "\n",
       "                      Position  Jersey Number        Joined Loaned From  \\\n",
       "0  <span class=\"pos pos18\">CAM           18.0  Jan 30, 2020         NaN   \n",
       "1  <span class=\"pos pos11\">LDM            8.0   Jul 1, 2018         NaN   \n",
       "2   <span class=\"pos pos24\">RS            9.0  Sep 25, 2020         NaN   \n",
       "3  <span class=\"pos pos13\">RCM           17.0  Aug 30, 2015         NaN   \n",
       "4    <span class=\"pos pos7\">LB           19.0  Sep 14, 2020         NaN   \n",
       "\n",
       "  Contract Valid Until Height Weight  Crossing  Finishing  HeadingAccuracy  \\\n",
       "0                 2025  179cm   69kg      87.0       83.0             64.0   \n",
       "1                 2026  189cm   82kg      75.0       82.0             86.0   \n",
       "2                 2022  182cm   83kg      80.0       93.0             84.0   \n",
       "3                 2025  181cm   70kg      94.0       82.0             55.0   \n",
       "4                 2024  172cm   69kg      87.0       66.0             58.0   \n",
       "\n",
       "   ShortPassing  Volleys  Dribbling  Curve  FKAccuracy  LongPassing  \\\n",
       "0          91.0     87.0       83.0   87.0        87.0         88.0   \n",
       "1          86.0     69.0       84.0   76.0        75.0         84.0   \n",
       "2          83.0     90.0       83.0   86.0        82.0         77.0   \n",
       "3          94.0     82.0       88.0   85.0        83.0         93.0   \n",
       "4          82.0     68.0       87.0   88.0        75.0         78.0   \n",
       "\n",
       "   BallControl  Acceleration  SprintSpeed  Agility  Reactions  Balance  \\\n",
       "0         87.0          77.0         73.0     80.0       91.0     79.0   \n",
       "1         87.0          78.0         83.0     76.0       88.0     71.0   \n",
       "2         86.0          76.0         69.0     75.0       92.0     78.0   \n",
       "3         91.0          76.0         76.0     79.0       91.0     78.0   \n",
       "4         88.0          77.0         76.0     83.0       83.0     90.0   \n",
       "\n",
       "   ShotPower  Jumping  Stamina  Strength  LongShots  Aggression  \\\n",
       "0       89.0     73.0     91.0      70.0       89.0        78.0   \n",
       "1       85.0     79.0     88.0      88.0       86.0        81.0   \n",
       "2       89.0     69.0     78.0      85.0       88.0        87.0   \n",
       "3       91.0     63.0     89.0      74.0       91.0        76.0   \n",
       "4       82.0     63.0     90.0      80.0       81.0        84.0   \n",
       "\n",
       "   Interceptions  Positioning  Vision  Penalties  Composure  Marking  \\\n",
       "0           66.0         87.0    90.0       91.0       87.0      NaN   \n",
       "1           86.0         85.0    84.0       60.0       82.0      NaN   \n",
       "2           41.0         91.0    84.0       83.0       87.0      NaN   \n",
       "3           66.0         88.0    94.0       83.0       89.0      NaN   \n",
       "4           79.0         81.0    82.0       76.0       87.0      NaN   \n",
       "\n",
       "   StandingTackle  SlidingTackle  GKDiving  GKHandling  GKKicking  \\\n",
       "0            73.0           65.0      12.0        14.0       15.0   \n",
       "1            85.0           77.0      13.0         8.0       15.0   \n",
       "2            45.0           38.0      27.0        25.0       31.0   \n",
       "3            65.0           53.0      15.0        13.0        5.0   \n",
       "4            84.0           82.0       8.0        14.0       13.0   \n",
       "\n",
       "   GKPositioning  GKReflexes Best Position  Best Overall Rating  \\\n",
       "0            8.0        14.0           CAM                 88.0   \n",
       "1           11.0         9.0            CM                 87.0   \n",
       "2           33.0        37.0            ST                 88.0   \n",
       "3           10.0        13.0            CM                 91.0   \n",
       "4           13.0        14.0            LB                 84.0   \n",
       "\n",
       "  Release Clause  DefensiveAwareness  \n",
       "0        €206.9M                72.0  \n",
       "1        €160.4M                74.0  \n",
       "2         €91.2M                42.0  \n",
       "3        €232.2M                68.0  \n",
       "4         €77.7M                80.0  "
      ]
     },
     "metadata": {},
     "output_type": "display_data"
    }
   ],
   "source": [
    "df22 = pd.read_csv('FIFA22_official_data.csv')\n",
    "print(df22.shape)\n",
    "print(df22.columns)\n",
    "display(df22.head())"
   ]
  },
  {
   "cell_type": "markdown",
   "metadata": {},
   "source": [
    "# data types"
   ]
  },
  {
   "cell_type": "code",
   "execution_count": 5,
   "metadata": {
    "ExecuteTime": {
     "end_time": "2021-12-25T08:46:03.432076Z",
     "start_time": "2021-12-25T08:46:03.415066Z"
    },
    "scrolled": true
   },
   "outputs": [
    {
     "data": {
      "text/plain": [
       "ID                            int64\n",
       "Name                         object\n",
       "Age                           int64\n",
       "Photo                        object\n",
       "Nationality                  object\n",
       "Flag                         object\n",
       "Overall                       int64\n",
       "Potential                     int64\n",
       "Club                         object\n",
       "Club Logo                    object\n",
       "Value                        object\n",
       "Wage                         object\n",
       "Special                       int64\n",
       "Preferred Foot               object\n",
       "International Reputation    float64\n",
       "Weak Foot                   float64\n",
       "Skill Moves                 float64\n",
       "Work Rate                    object\n",
       "Body Type                    object\n",
       "Real Face                    object\n",
       "Position                     object\n",
       "Jersey Number               float64\n",
       "Joined                       object\n",
       "Loaned From                  object\n",
       "Contract Valid Until         object\n",
       "Height                       object\n",
       "Weight                       object\n",
       "Crossing                    float64\n",
       "Finishing                   float64\n",
       "HeadingAccuracy             float64\n",
       "ShortPassing                float64\n",
       "Volleys                     float64\n",
       "Dribbling                   float64\n",
       "Curve                       float64\n",
       "FKAccuracy                  float64\n",
       "LongPassing                 float64\n",
       "BallControl                 float64\n",
       "Acceleration                float64\n",
       "SprintSpeed                 float64\n",
       "Agility                     float64\n",
       "Reactions                   float64\n",
       "Balance                     float64\n",
       "ShotPower                   float64\n",
       "Jumping                     float64\n",
       "Stamina                     float64\n",
       "Strength                    float64\n",
       "LongShots                   float64\n",
       "Aggression                  float64\n",
       "Interceptions               float64\n",
       "Positioning                 float64\n",
       "Vision                      float64\n",
       "Penalties                   float64\n",
       "Composure                   float64\n",
       "Marking                     float64\n",
       "StandingTackle              float64\n",
       "SlidingTackle               float64\n",
       "GKDiving                    float64\n",
       "GKHandling                  float64\n",
       "GKKicking                   float64\n",
       "GKPositioning               float64\n",
       "GKReflexes                  float64\n",
       "Best Position                object\n",
       "Best Overall Rating         float64\n",
       "Release Clause               object\n",
       "DefensiveAwareness          float64\n",
       "dtype: object"
      ]
     },
     "execution_count": 5,
     "metadata": {},
     "output_type": "execute_result"
    }
   ],
   "source": [
    "dict_functions = {}\n",
    "df22.dtypes"
   ]
  },
  {
   "cell_type": "markdown",
   "metadata": {},
   "source": [
    "## possible to convert into numerical either float or integer"
   ]
  },
  {
   "cell_type": "raw",
   "metadata": {},
   "source": [
    "Value, Wage, preferred foot,Height, Weight, Release Clause "
   ]
  },
  {
   "cell_type": "code",
   "execution_count": 6,
   "metadata": {
    "ExecuteTime": {
     "end_time": "2021-12-25T08:46:03.606950Z",
     "start_time": "2021-12-25T08:46:03.437080Z"
    }
   },
   "outputs": [
    {
     "data": {
      "text/plain": [
       "Value                0\n",
       "Wage                 0\n",
       "Preferred Foot       0\n",
       "Height               0\n",
       "Weight               0\n",
       "Release Clause    1749\n",
       "dtype: int64"
      ]
     },
     "execution_count": 6,
     "metadata": {},
     "output_type": "execute_result"
    }
   ],
   "source": [
    "df22[['Value', 'Wage', 'Preferred Foot', 'Height', 'Weight', 'Release Clause']].isnull().sum()"
   ]
  },
  {
   "cell_type": "markdown",
   "metadata": {},
   "source": [
    "### for phase 2 or round 2"
   ]
  },
  {
   "cell_type": "raw",
   "metadata": {},
   "source": [
    " Body Type, Position,, Joined , Contract valid Until, Work Rate"
   ]
  },
  {
   "cell_type": "markdown",
   "metadata": {},
   "source": [
    "## value"
   ]
  },
  {
   "cell_type": "code",
   "execution_count": 7,
   "metadata": {
    "ExecuteTime": {
     "end_time": "2021-12-25T08:46:03.725024Z",
     "start_time": "2021-12-25T08:46:03.613948Z"
    },
    "scrolled": true
   },
   "outputs": [
    {
     "data": {
      "text/plain": [
       "(0,\n",
       " array(['€107.5M', '€93M', '€44.5M', '€125.5M', '€37M', '€108M', '€28.5M',\n",
       "        '€40.5M', '€35M', '€53M', '€32M', '€88M', '€24M', '€35.5M', '€50M',\n",
       "        '€63.5M', '€27.5M', '€119.5M', '€48M', '€19M', '€52.5M', '€71.5M',\n",
       "        '€42.5M', '€114M', '€66M', '€12M', '€79.5M', '€78M', '€33M',\n",
       "        '€39.5M', '€47M', '€101M', '€46M', '€45M', '€0', '€34.5M',\n",
       "        '€129.5M', '€4.8M', '€65M', '€29.5M', '€51.5M', '€13M', '€22M',\n",
       "        '€49.5M', '€26.5M', '€39M', '€36M', '€38M', '€16.5M', '€69.5M',\n",
       "        '€57M', '€62.5M', '€129M', '€36.5M', '€3.2M', '€54M', '€19.5M',\n",
       "        '€100M', '€25M', '€30M', '€24.5M', '€58M', '€28M', '€194M',\n",
       "        '€1.2M', '€4.3M', '€22.5M', '€30.5M', '€53.5M', '€10.5M', '€73.5M',\n",
       "        '€83.5M', '€15M', '€16M', '€2.3M', '€21M', '€11M', '€20.5M',\n",
       "        '€1.4M', '€18.5M', '€75M', '€43.5M', '€31.5M', '€9.5M', '€77.5M',\n",
       "        '€104M', '€38.5M', '€7M', '€21.5M', '€4.6M', '€33.5M', '€14M',\n",
       "        '€14.5M', '€17M', '€11.5M', '€17.5M', '€2.9M', '€4M', '€4.9M',\n",
       "        '€48.5M', '€8.5M', '€74M', '€3.9M', '€43M', '€6.5M', '€41.5M',\n",
       "        '€46.5M', '€47.5M', '€5.5M', '€3.5M', '€10M', '€68M', '€25.5M',\n",
       "        '€20M', '€9M', '€4.5M', '€42M', '€6M', '€3M', '€66.5M', '€8M',\n",
       "        '€7.5M', '€1.8M', '€86M', '€15.5M', '€137.5M', '€4.7M', '€32.5M',\n",
       "        '€4.1M', '€58.5M', '€81M', '€26M', '€13.5M', '€49M', '€3.6M',\n",
       "        '€31M', '€3.8M', '€63M', '€64.5M', '€56M', '€3.7M', '€5M', '€2.2M',\n",
       "        '€12.5M', '€90.5M', '€23M', '€27M', '€2.1M', '€2M', '€51M',\n",
       "        '€2.4M', '€825K', '€67.5M', '€82M', '€400K', '€93.5M', '€2.6M',\n",
       "        '€94.5M', '€18M', '€4.2M', '€52M', '€3.3M', '€3.1M', '€80.5M',\n",
       "        '€925K', '€2.5M', '€2.7M', '€45.5M', '€44M', '€1M', '€1.5M',\n",
       "        '€65.5M', '€1.6M', '€41M', '€1.9M', '€3.4M', '€1.7M', '€750K',\n",
       "        '€50.5M', '€575K', '€4.4M', '€56.5M', '€950K', '€29M', '€325K',\n",
       "        '€1.3M', '€2.8M', '€116.5M', '€1.1M', '€875K', '€650K', '€68.5M',\n",
       "        '€675K', '€55M', '€500K', '€525K', '€600K', '€800K', '€23.5M',\n",
       "        '€77M', '€625K', '€725K', '€350K', '€975K', '€375K', '€37.5M',\n",
       "        '€775K', '€900K', '€450K', '€700K', '€850K', '€220K', '€1K',\n",
       "        '€475K', '€425K', '€550K', '€275K', '€250K', '€300K', '€102.5M',\n",
       "        '€120K', '€80K', '€100K', '€160K', '€180K', '€230K', '€140K',\n",
       "        '€64M', '€170K', '€60K', '€240K', '€190K', '€150K', '€210K',\n",
       "        '€200K', '€130K', '€90K', '€110K', '€55.5M', '€35K', '€70K',\n",
       "        '€94M', '€50K', '€45K', '€30K', '€99M', '€15K', '€112M', '€85.5M',\n",
       "        '€7K', '€40K', '€20K', '€25K', '€10K'], dtype=object))"
      ]
     },
     "execution_count": 7,
     "metadata": {},
     "output_type": "execute_result"
    }
   ],
   "source": [
    "df22['Value'].isnull().sum(), df22['Value'].unique()"
   ]
  },
  {
   "cell_type": "code",
   "execution_count": 8,
   "metadata": {
    "ExecuteTime": {
     "end_time": "2021-12-25T08:46:03.925162Z",
     "start_time": "2021-12-25T08:46:03.733029Z"
    }
   },
   "outputs": [],
   "source": [
    "value_list = df22['Value'].tolist()\n",
    "\n",
    "for i in value_list:\n",
    "    if i[0] != '€':\n",
    "        print(i)\n",
    "    if i[-1] not in ['M', 'K']:\n",
    "        if i != '€0':\n",
    "            print(i)"
   ]
  },
  {
   "cell_type": "code",
   "execution_count": 9,
   "metadata": {
    "ExecuteTime": {
     "end_time": "2021-12-25T08:46:04.087240Z",
     "start_time": "2021-12-25T08:46:03.929159Z"
    }
   },
   "outputs": [
    {
     "data": {
      "text/plain": [
       "(dtype('float64'), 0)"
      ]
     },
     "execution_count": 9,
     "metadata": {},
     "output_type": "execute_result"
    }
   ],
   "source": [
    "def value_func(input_val):\n",
    "    if input_val == '€0':\n",
    "        return 0\n",
    "    elif input_val[-1]=='M':\n",
    "        return 1000*float(input_val[1:-1])\n",
    "    elif input_val[-1]=='K':\n",
    "        return float(input_val[1:-1])\n",
    "    else:\n",
    "        print('boom there is a error')\n",
    "dict_functions['Value'] = value_func\n",
    "df22['Value'] = df22['Value'].apply(value_func)\n",
    "df22['Value'].dtype, df22['Value'].isnull().sum()\n"
   ]
  },
  {
   "cell_type": "markdown",
   "metadata": {},
   "source": [
    "## Wage"
   ]
  },
  {
   "cell_type": "code",
   "execution_count": 10,
   "metadata": {
    "ExecuteTime": {
     "end_time": "2021-12-25T08:46:04.206791Z",
     "start_time": "2021-12-25T08:46:04.099248Z"
    },
    "scrolled": true
   },
   "outputs": [
    {
     "data": {
      "text/plain": [
       "array(['€250K', '€140K', '€135K', '€350K', '€45K', '€160K', '€61K',\n",
       "       '€115K', '€72K', '€220K', '€190K', '€95K', '€195K', '€47K',\n",
       "       '€120K', '€130K', '€210K', '€110K', '€90K', '€185K', '€52K',\n",
       "       '€150K', '€100K', '€105K', '€310K', '€320K', '€38K', '€46K',\n",
       "       '€200K', '€270K', '€77K', '€30K', '€240K', '€60K', '€155K', '€68K',\n",
       "       '€180K', '€66K', '€29K', '€34K', '€65K', '€51K', '€170K', '€42K',\n",
       "       '€125K', '€18K', '€33K', '€74K', '€17K', '€230K', '€58K', '€35K',\n",
       "       '€24K', '€79K', '€81K', '€20K', '€55K', '€39K', '€0', '€89K',\n",
       "       '€22K', '€64K', '€78K', '€36K', '€165K', '€175K', '€11K', '€1K',\n",
       "       '€49K', '€41K', '€63K', '€57K', '€71K', '€10K', '€32K', '€50K',\n",
       "       '€19K', '€82K', '€145K', '€76K', '€80K', '€53K', '€27K', '€69K',\n",
       "       '€70K', '€87K', '€43K', '€15K', '€28K', '€14K', '€83K', '€88K',\n",
       "       '€26K', '€21K', '€86K', '€73K', '€59K', '€23K', '€56K', '€2K',\n",
       "       '€48K', '€290K', '€12K', '€8K', '€13K', '€54K', '€25K', '€31K',\n",
       "       '€40K', '€44K', '€75K', '€850', '€9K', '€37K', '€260K', '€16K',\n",
       "       '€84K', '€5K', '€750', '€800', '€950', '€6K', '€85K', '€900',\n",
       "       '€7K', '€650', '€4K', '€62K', '€500', '€3K', '€700', '€67K',\n",
       "       '€550', '€600'], dtype=object)"
      ]
     },
     "execution_count": 10,
     "metadata": {},
     "output_type": "execute_result"
    }
   ],
   "source": [
    "df22['Wage'].unique()"
   ]
  },
  {
   "cell_type": "code",
   "execution_count": 11,
   "metadata": {
    "ExecuteTime": {
     "end_time": "2021-12-25T08:46:04.349817Z",
     "start_time": "2021-12-25T08:46:04.210789Z"
    }
   },
   "outputs": [
    {
     "data": {
      "text/plain": [
       "(dtype('float64'), 0)"
      ]
     },
     "execution_count": 11,
     "metadata": {},
     "output_type": "execute_result"
    }
   ],
   "source": [
    "def func_wage_k(input_str):\n",
    "    if input_str[-1]!='K':\n",
    "        temp_output = float(input_str[1:])/1000\n",
    "    else:\n",
    "        temp_output = float(input_str[1:-1])\n",
    "    return temp_output\n",
    "dict_functions['Wage'] = func_wage_k\n",
    "\n",
    "df22['Wage'] = df22['Wage'].apply(func_wage_k)\n",
    "df22['Wage'].dtype, df22['Wage'].isnull().sum()"
   ]
  },
  {
   "cell_type": "markdown",
   "metadata": {
    "ExecuteTime": {
     "end_time": "2021-12-18T15:42:08.913120Z",
     "start_time": "2021-12-18T15:42:08.821172Z"
    }
   },
   "source": [
    "## preferred foot"
   ]
  },
  {
   "cell_type": "code",
   "execution_count": 12,
   "metadata": {
    "ExecuteTime": {
     "end_time": "2021-12-25T08:46:04.474904Z",
     "start_time": "2021-12-25T08:46:04.354823Z"
    }
   },
   "outputs": [
    {
     "name": "stdout",
     "output_type": "stream",
     "text": [
      "[1 0] int64\n"
     ]
    }
   ],
   "source": [
    "def func_foot(x):\n",
    "    if x=='Right':\n",
    "        return 1\n",
    "    elif x=='Left':\n",
    "        return 0\n",
    "    else:\n",
    "        return x\n",
    "dict_functions['Preferred Foot'] = func_foot\n",
    "df22['Preferred Foot'] = df22['Preferred Foot'].apply(func_foot)\n",
    "print(df22['Preferred Foot'].unique(), df22['Preferred Foot'].dtype)"
   ]
  },
  {
   "cell_type": "markdown",
   "metadata": {},
   "source": [
    "## Work Rate"
   ]
  },
  {
   "cell_type": "code",
   "execution_count": 13,
   "metadata": {
    "ExecuteTime": {
     "end_time": "2021-12-25T08:46:04.593140Z",
     "start_time": "2021-12-25T08:46:04.479904Z"
    }
   },
   "outputs": [
    {
     "data": {
      "text/plain": [
       "(array(['High/ High', 'High/ Medium', 'Medium/ High', 'Medium/ Medium',\n",
       "        'Medium/ Low', 'High/ Low', 'Low/ High', 'Low/ Medium', 'Low/ Low',\n",
       "        'N/A/ N/A'], dtype=object),\n",
       " Medium/ Medium    7866\n",
       " High/ Medium      3440\n",
       " Medium/ High      1724\n",
       " High/ High        1101\n",
       " Medium/ Low        874\n",
       " High/ Low          760\n",
       " Low/ High          417\n",
       " Low/ Medium        417\n",
       " Low/ Low            60\n",
       " N/A/ N/A            51\n",
       " Name: Work Rate, dtype: int64)"
      ]
     },
     "execution_count": 13,
     "metadata": {},
     "output_type": "execute_result"
    }
   ],
   "source": [
    "df22['Work Rate'].unique(), df22['Work Rate'].value_counts()"
   ]
  },
  {
   "cell_type": "markdown",
   "metadata": {},
   "source": [
    "## Height"
   ]
  },
  {
   "cell_type": "code",
   "execution_count": 14,
   "metadata": {
    "ExecuteTime": {
     "end_time": "2021-12-25T08:46:04.673190Z",
     "start_time": "2021-12-25T08:46:04.597140Z"
    }
   },
   "outputs": [
    {
     "data": {
      "text/plain": [
       "array(['179cm', '189cm', '182cm', '181cm', '172cm', '177cm', '183cm',\n",
       "       '175cm', '186cm', '176cm', '184cm', '180cm', '178cm', '191cm',\n",
       "       '185cm', '170cm', '188cm', '187cm', '168cm', '165cm', '174cm',\n",
       "       '171cm', '173cm', '167cm', '169cm', '190cm', '192cm', '193cm',\n",
       "       '194cm', '166cm', '195cm', '163cm', '197cm', '160cm', '158cm',\n",
       "       '161cm', '157cm', '196cm', '162cm', '164cm', '198cm', '201cm',\n",
       "       '200cm', '159cm', '156cm', '199cm', '155cm', '202cm', '203cm',\n",
       "       '206cm'], dtype=object)"
      ]
     },
     "execution_count": 14,
     "metadata": {},
     "output_type": "execute_result"
    }
   ],
   "source": [
    "df22['Height'].unique()"
   ]
  },
  {
   "cell_type": "code",
   "execution_count": 15,
   "metadata": {
    "ExecuteTime": {
     "end_time": "2021-12-25T08:46:04.824057Z",
     "start_time": "2021-12-25T08:46:04.677197Z"
    }
   },
   "outputs": [
    {
     "data": {
      "text/plain": [
       "(dtype('int64'), 0)"
      ]
     },
     "execution_count": 15,
     "metadata": {},
     "output_type": "execute_result"
    }
   ],
   "source": [
    "def Height_func(input_val):\n",
    "    if input_val[-2:] !='cm':\n",
    "        #print('Height error')\n",
    "        temp = input_val.split(\"'\")\n",
    "        temp1 = float(temp[0])*30.48 + float(temp[1])*2.54\n",
    "        return int(temp1)\n",
    "    else:\n",
    "        return int(input_val[:-2])\n",
    "dict_functions['Height'] = Height_func\n",
    "df22['Height'] = df22['Height'].apply(Height_func)\n",
    "df22['Height'].dtype, df22['Height'].isnull().sum()"
   ]
  },
  {
   "cell_type": "markdown",
   "metadata": {},
   "source": [
    "## Weight"
   ]
  },
  {
   "cell_type": "code",
   "execution_count": 16,
   "metadata": {
    "ExecuteTime": {
     "end_time": "2021-12-25T08:46:04.907108Z",
     "start_time": "2021-12-25T08:46:04.829059Z"
    }
   },
   "outputs": [
    {
     "data": {
      "text/plain": [
       "array(['69kg', '82kg', '83kg', '70kg', '75kg', '80kg', '74kg', '86kg',\n",
       "       '73kg', '66kg', '78kg', '68kg', '71kg', '76kg', '72kg', '84kg',\n",
       "       '81kg', '65kg', '89kg', '60kg', '67kg', '79kg', '88kg', '77kg',\n",
       "       '62kg', '64kg', '85kg', '61kg', '63kg', '92kg', '94kg', '87kg',\n",
       "       '90kg', '91kg', '96kg', '95kg', '58kg', '59kg', '100kg', '56kg',\n",
       "       '55kg', '93kg', '57kg', '54kg', '97kg', '98kg', '99kg', '53kg',\n",
       "       '49kg', '51kg', '104kg', '110kg', '101kg', '52kg', '102kg',\n",
       "       '103kg', '107kg', '105kg'], dtype=object)"
      ]
     },
     "execution_count": 16,
     "metadata": {},
     "output_type": "execute_result"
    }
   ],
   "source": [
    "df22['Weight'].unique()"
   ]
  },
  {
   "cell_type": "code",
   "execution_count": 17,
   "metadata": {
    "ExecuteTime": {
     "end_time": "2021-12-25T08:46:05.049198Z",
     "start_time": "2021-12-25T08:46:04.912113Z"
    }
   },
   "outputs": [
    {
     "data": {
      "text/plain": [
       "(dtype('int64'), 0)"
      ]
     },
     "execution_count": 17,
     "metadata": {},
     "output_type": "execute_result"
    }
   ],
   "source": [
    "def Weight_func(input_val):\n",
    "    if input_val[-3:] =='lbs':\n",
    "        return int(int(input_val[:-3])*0.4536)\n",
    "    elif input_val[-2:] =='kg':\n",
    "        return int(input_val[:-2])\n",
    "    else:\n",
    "        print('Weight error')\n",
    "        return input_val\n",
    "dict_functions['Weight'] = Weight_func\n",
    "df22['Weight'] = df22['Weight'].apply(Weight_func)\n",
    "df22['Weight'].dtype, df22['Weight'].isnull().sum()"
   ]
  },
  {
   "cell_type": "markdown",
   "metadata": {},
   "source": [
    "## Release Clause"
   ]
  },
  {
   "cell_type": "code",
   "execution_count": 18,
   "metadata": {
    "ExecuteTime": {
     "end_time": "2021-12-25T08:46:05.195732Z",
     "start_time": "2021-12-25T08:46:05.053197Z"
    }
   },
   "outputs": [
    {
     "name": "stdout",
     "output_type": "stream",
     "text": [
      "['€206.9M', '€160.4M', '€91.2M', '€232.2M', '€77.7M']\n",
      "0 0 1749\n",
      "[] [] [nan, nan, nan, nan, nan]\n",
      "1749\n"
     ]
    }
   ],
   "source": [
    "release_clause = df22['Release Clause'].tolist()\n",
    "print(release_clause[:5])\n",
    "\n",
    "r_c_temp_1 = []\n",
    "r_c_temp_2 = []\n",
    "r_c_temp_3 = []\n",
    "for x in release_clause:\n",
    "    try:\n",
    "        if x[0]!='€':\n",
    "            r_c_temp_1.append(x)\n",
    "        elif x[-1] not in ['M', 'K']:\n",
    "            r_c_temp_2.append(x)\n",
    "    except:\n",
    "        r_c_temp_3.append(x)\n",
    "\n",
    "print(len(r_c_temp_1), len(r_c_temp_2), len(r_c_temp_3))\n",
    "print(r_c_temp_1[:5], r_c_temp_2[:5], r_c_temp_3[:5])\n",
    "print(df22['Release Clause'].isnull().sum())"
   ]
  },
  {
   "cell_type": "code",
   "execution_count": 19,
   "metadata": {
    "ExecuteTime": {
     "end_time": "2021-12-25T08:46:05.405102Z",
     "start_time": "2021-12-25T08:46:05.200735Z"
    }
   },
   "outputs": [
    {
     "data": {
      "text/plain": [
       "nan"
      ]
     },
     "execution_count": 19,
     "metadata": {},
     "output_type": "execute_result"
    }
   ],
   "source": [
    "float(np.NaN)"
   ]
  },
  {
   "cell_type": "code",
   "execution_count": 20,
   "metadata": {
    "ExecuteTime": {
     "end_time": "2021-12-25T08:46:05.563417Z",
     "start_time": "2021-12-25T08:46:05.410106Z"
    }
   },
   "outputs": [
    {
     "data": {
      "text/plain": [
       "(1749, dtype('float64'), 1749)"
      ]
     },
     "execution_count": 20,
     "metadata": {},
     "output_type": "execute_result"
    }
   ],
   "source": [
    "def release_clause_func(input_val):\n",
    "    if input_val is float(np.NaN):\n",
    "        #print('null')\n",
    "        return input_val\n",
    "    else:\n",
    "        if input_val[-1]=='M':\n",
    "            return 1000*float(input_val[1:-1])\n",
    "        elif input_val[-1]=='K':\n",
    "            return float(input_val[1:-1])\n",
    "        else:\n",
    "            return float(input_val[1:])\n",
    "dict_functions['Release Clause'] = release_clause_func\n",
    "df22['Release Clause'] = df22['Release Clause'].apply(release_clause_func)\n",
    "\n",
    "df22['Release Clause'].isnull().sum(), df22['Release Clause'].dtype,\\\n",
    "df22['Release Clause'].isnull().sum()"
   ]
  },
  {
   "cell_type": "code",
   "execution_count": 21,
   "metadata": {
    "ExecuteTime": {
     "end_time": "2021-12-25T08:46:05.665515Z",
     "start_time": "2021-12-25T08:46:05.567423Z"
    }
   },
   "outputs": [],
   "source": [
    "# removing all the columns with dtypes as object"
   ]
  },
  {
   "cell_type": "code",
   "execution_count": 22,
   "metadata": {
    "ExecuteTime": {
     "end_time": "2021-12-25T08:46:05.804750Z",
     "start_time": "2021-12-25T08:46:05.669519Z"
    },
    "scrolled": true
   },
   "outputs": [
    {
     "data": {
      "text/plain": [
       "['Name',\n",
       " 'Photo',\n",
       " 'Nationality',\n",
       " 'Flag',\n",
       " 'Club',\n",
       " 'Club Logo',\n",
       " 'Work Rate',\n",
       " 'Body Type',\n",
       " 'Real Face',\n",
       " 'Position',\n",
       " 'Joined',\n",
       " 'Loaned From',\n",
       " 'Contract Valid Until',\n",
       " 'Best Position']"
      ]
     },
     "execution_count": 22,
     "metadata": {},
     "output_type": "execute_result"
    }
   ],
   "source": [
    "cols_non_numeric = []\n",
    "for i in df22.columns:\n",
    "    if df22[i].dtype == object:\n",
    "        cols_non_numeric.append(i)\n",
    "#     elif df22[i].dtype == np.float64:\n",
    "#         print(2)\n",
    "#     elif df22[i].dtype == np.int64:\n",
    "#         print(3)\n",
    "#     else:\n",
    "#         print(df22[i].dtype)\n",
    "cols_non_numeric"
   ]
  },
  {
   "cell_type": "code",
   "execution_count": 23,
   "metadata": {
    "ExecuteTime": {
     "end_time": "2021-12-25T08:46:05.937829Z",
     "start_time": "2021-12-25T08:46:05.813743Z"
    }
   },
   "outputs": [
    {
     "name": "stdout",
     "output_type": "stream",
     "text": [
      "(16710, 65)\n",
      "(16710, 51)\n"
     ]
    }
   ],
   "source": [
    "print(df22.shape)\n",
    "df22.drop(cols_non_numeric, axis = 1, inplace = True)\n",
    "print(df22.shape)"
   ]
  },
  {
   "cell_type": "markdown",
   "metadata": {},
   "source": [
    "# remove legends if possible"
   ]
  },
  {
   "cell_type": "code",
   "execution_count": 24,
   "metadata": {
    "ExecuteTime": {
     "end_time": "2021-12-25T08:46:05.997801Z",
     "start_time": "2021-12-25T08:46:05.941832Z"
    }
   },
   "outputs": [],
   "source": [
    "# later"
   ]
  },
  {
   "cell_type": "markdown",
   "metadata": {},
   "source": [
    "# dropping non relevant columns"
   ]
  },
  {
   "cell_type": "code",
   "execution_count": 25,
   "metadata": {
    "ExecuteTime": {
     "end_time": "2021-12-25T08:46:06.105876Z",
     "start_time": "2021-12-25T08:46:06.001803Z"
    }
   },
   "outputs": [
    {
     "data": {
      "text/plain": [
       "Index(['ID', 'Age', 'Overall', 'Potential', 'Value', 'Wage', 'Special',\n",
       "       'Preferred Foot', 'International Reputation', 'Weak Foot',\n",
       "       'Skill Moves', 'Jersey Number', 'Height', 'Weight', 'Crossing',\n",
       "       'Finishing', 'HeadingAccuracy', 'ShortPassing', 'Volleys', 'Dribbling',\n",
       "       'Curve', 'FKAccuracy', 'LongPassing', 'BallControl', 'Acceleration',\n",
       "       'SprintSpeed', 'Agility', 'Reactions', 'Balance', 'ShotPower',\n",
       "       'Jumping', 'Stamina', 'Strength', 'LongShots', 'Aggression',\n",
       "       'Interceptions', 'Positioning', 'Vision', 'Penalties', 'Composure',\n",
       "       'Marking', 'StandingTackle', 'SlidingTackle', 'GKDiving', 'GKHandling',\n",
       "       'GKKicking', 'GKPositioning', 'GKReflexes', 'Best Overall Rating',\n",
       "       'Release Clause', 'DefensiveAwareness'],\n",
       "      dtype='object')"
      ]
     },
     "execution_count": 25,
     "metadata": {},
     "output_type": "execute_result"
    }
   ],
   "source": [
    "df22.columns"
   ]
  },
  {
   "cell_type": "code",
   "execution_count": 26,
   "metadata": {
    "ExecuteTime": {
     "end_time": "2021-12-25T08:46:06.201939Z",
     "start_time": "2021-12-25T08:46:06.109877Z"
    }
   },
   "outputs": [
    {
     "name": "stdout",
     "output_type": "stream",
     "text": [
      "(16710, 51)\n",
      "(16710, 49)\n"
     ]
    }
   ],
   "source": [
    "print(df22.shape)\n",
    "non_relevant_cols = ['ID', 'Jersey Number']\n",
    "df22.drop(non_relevant_cols, axis = 1, inplace =True)\n",
    "print(df22.shape)"
   ]
  },
  {
   "cell_type": "markdown",
   "metadata": {},
   "source": [
    "# null values"
   ]
  },
  {
   "cell_type": "code",
   "execution_count": 27,
   "metadata": {
    "ExecuteTime": {
     "end_time": "2021-12-25T08:46:06.332023Z",
     "start_time": "2021-12-25T08:46:06.207942Z"
    },
    "scrolled": false
   },
   "outputs": [
    {
     "data": {
      "text/plain": [
       "Volleys                  37\n",
       "Curve                    37\n",
       "Agility                  37\n",
       "Balance                  37\n",
       "Jumping                  37\n",
       "Interceptions             8\n",
       "Positioning               8\n",
       "Vision                   37\n",
       "Composure               251\n",
       "Marking               15818\n",
       "SlidingTackle            37\n",
       "Release Clause         1749\n",
       "DefensiveAwareness      892\n",
       "dtype: int64"
      ]
     },
     "execution_count": 27,
     "metadata": {},
     "output_type": "execute_result"
    }
   ],
   "source": [
    "null_value_col = []\n",
    "for i in df22.columns:\n",
    "    if df22[i].isnull().sum()>0:\n",
    "        null_value_col.append(i)\n",
    "df22[null_value_col].isnull().sum()"
   ]
  },
  {
   "cell_type": "code",
   "execution_count": 28,
   "metadata": {
    "ExecuteTime": {
     "end_time": "2021-12-25T08:46:06.387065Z",
     "start_time": "2021-12-25T08:46:06.347038Z"
    }
   },
   "outputs": [
    {
     "data": {
      "text/plain": [
       "0.9466187911430282"
      ]
     },
     "execution_count": 28,
     "metadata": {},
     "output_type": "execute_result"
    }
   ],
   "source": [
    "df22['Marking'].isnull().sum()/len(df22)"
   ]
  },
  {
   "cell_type": "code",
   "execution_count": 29,
   "metadata": {
    "ExecuteTime": {
     "end_time": "2021-12-25T08:46:06.530158Z",
     "start_time": "2021-12-25T08:46:06.393065Z"
    },
    "scrolled": true
   },
   "outputs": [
    {
     "data": {
      "text/plain": [
       "Volleys                 37\n",
       "Curve                   37\n",
       "Agility                 37\n",
       "Balance                 37\n",
       "Jumping                 37\n",
       "Interceptions            8\n",
       "Positioning              8\n",
       "Vision                  37\n",
       "Composure              251\n",
       "SlidingTackle           37\n",
       "Release Clause        1749\n",
       "DefensiveAwareness     892\n",
       "dtype: int64"
      ]
     },
     "execution_count": 29,
     "metadata": {},
     "output_type": "execute_result"
    }
   ],
   "source": [
    "#Marking has very high null values so it will be dropped\n",
    "\n",
    "\n",
    "df22.drop(['Marking'], axis = 1,inplace = True)\n",
    "null_value_col = []\n",
    "for i in df22.columns:\n",
    "    if df22[i].isnull().sum()>0:\n",
    "        null_value_col.append(i)\n",
    "df22[null_value_col].isnull().sum()"
   ]
  },
  {
   "cell_type": "code",
   "execution_count": 30,
   "metadata": {
    "ExecuteTime": {
     "end_time": "2021-12-25T08:46:06.738404Z",
     "start_time": "2021-12-25T08:46:06.535161Z"
    },
    "scrolled": true
   },
   "outputs": [
    {
     "name": "stdout",
     "output_type": "stream",
     "text": [
      "Volleys 45.652971870689136 48.0\n",
      "Curve 50.57452168176093 53.0\n",
      "Agility 65.22287530738319 68.0\n",
      "Balance 64.94326156060697 67.0\n",
      "Jumping 65.8966592694776 67.0\n",
      "Interceptions 48.05741827326069 55.0\n",
      "Positioning 53.15046102263202 58.0\n",
      "Vision 56.37893600431836 58.0\n",
      "Composure 61.00188346801142 62.0\n",
      "SlidingTackle 46.8305643855335 54.0\n",
      "Release Clause 6562.50705166767 2200.0\n",
      "DefensiveAwareness 48.01940826906056 54.0\n"
     ]
    },
    {
     "data": {
      "text/plain": [
       "0"
      ]
     },
     "execution_count": 30,
     "metadata": {},
     "output_type": "execute_result"
    }
   ],
   "source": [
    "dict_null= {}\n",
    "for i in null_value_col:\n",
    "    temp_mean = df22[i].mean()\n",
    "    temp_median = df22[i].median()\n",
    "    print(i,temp_mean , temp_median)\n",
    "    dict_null[i]=temp_mean\n",
    "    df22[i].fillna(temp_mean, inplace = True)\n",
    "df22.isnull().sum().sum()"
   ]
  },
  {
   "cell_type": "markdown",
   "metadata": {},
   "source": [
    "# correlation"
   ]
  },
  {
   "cell_type": "code",
   "execution_count": 31,
   "metadata": {
    "ExecuteTime": {
     "end_time": "2021-12-25T08:46:07.176276Z",
     "start_time": "2021-12-25T08:46:06.743407Z"
    },
    "scrolled": true
   },
   "outputs": [
    {
     "data": {
      "text/plain": [
       "Overall                     1.000000\n",
       "Best Overall Rating         0.985377\n",
       "Reactions                   0.869650\n",
       "Composure                   0.673238\n",
       "Wage                        0.615731\n",
       "Potential                   0.586648\n",
       "Special                     0.576851\n",
       "Value                       0.559235\n",
       "Release Clause              0.538543\n",
       "ShotPower                   0.513840\n",
       "International Reputation    0.511914\n",
       "Vision                      0.493167\n",
       "ShortPassing                0.483895\n",
       "LongPassing                 0.474325\n",
       "Age                         0.473963\n",
       "BallControl                 0.413273\n",
       "Curve                       0.367892\n",
       "Aggression                  0.363796\n",
       "LongShots                   0.361913\n",
       "Crossing                    0.357150\n",
       "FKAccuracy                  0.338062\n",
       "Volleys                     0.336762\n",
       "Dribbling                   0.328883\n",
       "Strength                    0.321999\n",
       "Skill Moves                 0.319352\n",
       "Positioning                 0.317262\n",
       "Stamina                     0.315613\n",
       "HeadingAccuracy             0.301434\n",
       "Penalties                   0.301394\n",
       "Interceptions               0.291707\n",
       "Finishing                   0.287630\n",
       "DefensiveAwareness          0.274450\n",
       "Jumping                     0.241734\n",
       "StandingTackle              0.231631\n",
       "SlidingTackle               0.204960\n",
       "Weak Foot                   0.190012\n",
       "Agility                     0.189596\n",
       "Weight                      0.142155\n",
       "SprintSpeed                 0.126716\n",
       "Acceleration                0.117279\n",
       "Balance                     0.085564\n",
       "GKPositioning               0.032042\n",
       "Height                      0.031213\n",
       "GKKicking                   0.030399\n",
       "GKReflexes                  0.028252\n",
       "GKHandling                  0.027278\n",
       "GKDiving                    0.025537\n",
       "Preferred Foot             -0.020229\n",
       "Name: Overall, dtype: float64"
      ]
     },
     "execution_count": 31,
     "metadata": {},
     "output_type": "execute_result"
    }
   ],
   "source": [
    "df22.corr()['Overall'].sort_values(ascending = False)"
   ]
  },
  {
   "cell_type": "code",
   "execution_count": 32,
   "metadata": {
    "ExecuteTime": {
     "end_time": "2021-12-25T08:46:07.196295Z",
     "start_time": "2021-12-25T08:46:07.180279Z"
    }
   },
   "outputs": [],
   "source": [
    "df22.drop(['Best Overall Rating'], axis =1, inplace = True)"
   ]
  },
  {
   "cell_type": "markdown",
   "metadata": {},
   "source": [
    "# machine learning model building"
   ]
  },
  {
   "cell_type": "raw",
   "metadata": {},
   "source": [
    "regression models -\n",
    "\n",
    "Linear Regression\n",
    "Logistic Regression\n",
    "Polynomial Regression\n",
    "Support Vector Regression\n",
    "Decision Tree Regression\n",
    "Random Forest Regression\n",
    "Ridge Regression\n",
    "Lasso Regression"
   ]
  },
  {
   "cell_type": "markdown",
   "metadata": {},
   "source": [
    "# Linear Regressor"
   ]
  },
  {
   "cell_type": "code",
   "execution_count": 33,
   "metadata": {
    "ExecuteTime": {
     "end_time": "2021-12-25T08:46:07.358020Z",
     "start_time": "2021-12-25T08:46:07.200292Z"
    }
   },
   "outputs": [],
   "source": [
    "from sklearn.metrics import r2_score\n",
    "from sklearn.model_selection import train_test_split\n",
    "from sklearn.linear_model import LinearRegression\n",
    "\n",
    "y = df22['Overall'].values\n",
    "X = df22.drop(['Overall'], axis = 1)\n",
    "\n",
    "X_train, X_test, y_train, y_test = train_test_split(X, y, test_size = 0.25)\n"
   ]
  },
  {
   "cell_type": "code",
   "execution_count": 34,
   "metadata": {
    "ExecuteTime": {
     "end_time": "2021-12-25T08:46:07.598023Z",
     "start_time": "2021-12-25T08:46:07.362019Z"
    }
   },
   "outputs": [],
   "source": [
    "regr = LinearRegression()\n",
    "regr.fit(X_train, y_train)\n",
    "\n",
    "y_train_pred = regr.predict(X_train)\n",
    "y_train_pred = list(y_train_pred)\n",
    "y_train_pred = [round(x) for x in y_train_pred]\n",
    "\n",
    "\n",
    "y_test_pred = regr.predict(X_test)\n",
    "y_test_pred = list(y_test_pred)\n",
    "y_test_pred = [round(x) for x in y_test_pred]"
   ]
  },
  {
   "cell_type": "code",
   "execution_count": 35,
   "metadata": {
    "ExecuteTime": {
     "end_time": "2021-12-25T08:46:07.621014Z",
     "start_time": "2021-12-25T08:46:07.602997Z"
    }
   },
   "outputs": [
    {
     "data": {
      "text/plain": [
       "(0.9247661425520782, 0.923480411648638)"
      ]
     },
     "execution_count": 35,
     "metadata": {},
     "output_type": "execute_result"
    }
   ],
   "source": [
    "r2_score(y_train, y_train_pred), r2_score(y_test, y_test_pred)"
   ]
  },
  {
   "cell_type": "markdown",
   "metadata": {},
   "source": [
    "# XGB regressor"
   ]
  },
  {
   "cell_type": "code",
   "execution_count": 36,
   "metadata": {
    "ExecuteTime": {
     "end_time": "2021-12-25T08:46:12.427572Z",
     "start_time": "2021-12-25T08:46:07.625014Z"
    }
   },
   "outputs": [],
   "source": [
    "xgb_regr = XGBRegressor()\n",
    "xgb_regr.fit(X_train, y_train)\n",
    "\n",
    "y_train_pred = xgb_regr.predict(X_train)\n",
    "y_train_pred = list(y_train_pred)\n",
    "y_train_pred = [round(x) for x in y_train_pred]\n",
    "\n",
    "\n",
    "y_test_pred = xgb_regr.predict(X_test)\n",
    "y_test_pred = list(y_test_pred)\n",
    "y_test_pred = [round(x) for x in y_test_pred]"
   ]
  },
  {
   "cell_type": "code",
   "execution_count": 37,
   "metadata": {
    "ExecuteTime": {
     "end_time": "2021-12-25T08:46:12.445584Z",
     "start_time": "2021-12-25T08:46:12.434578Z"
    }
   },
   "outputs": [
    {
     "data": {
      "text/plain": [
       "list"
      ]
     },
     "execution_count": 37,
     "metadata": {},
     "output_type": "execute_result"
    }
   ],
   "source": [
    "type(y_test_pred)"
   ]
  },
  {
   "cell_type": "code",
   "execution_count": 38,
   "metadata": {
    "ExecuteTime": {
     "end_time": "2021-12-25T08:46:12.598733Z",
     "start_time": "2021-12-25T08:46:12.453590Z"
    }
   },
   "outputs": [
    {
     "data": {
      "text/plain": [
       "(0.9971731623321147, 0.98763461183742)"
      ]
     },
     "execution_count": 38,
     "metadata": {},
     "output_type": "execute_result"
    }
   ],
   "source": [
    "r2_score(y_train, y_train_pred), r2_score(y_test, y_test_pred)"
   ]
  },
  {
   "cell_type": "code",
   "execution_count": 39,
   "metadata": {
    "ExecuteTime": {
     "end_time": "2021-12-25T08:46:13.282255Z",
     "start_time": "2021-12-25T08:46:12.602737Z"
    }
   },
   "outputs": [],
   "source": [
    "df22_full = pd.read_csv('FIFA22_official_data.csv')"
   ]
  },
  {
   "cell_type": "code",
   "execution_count": 40,
   "metadata": {
    "ExecuteTime": {
     "end_time": "2021-12-25T08:46:13.424138Z",
     "start_time": "2021-12-25T08:46:13.287042Z"
    }
   },
   "outputs": [
    {
     "data": {
      "text/html": [
       "<div>\n",
       "<style scoped>\n",
       "    .dataframe tbody tr th:only-of-type {\n",
       "        vertical-align: middle;\n",
       "    }\n",
       "\n",
       "    .dataframe tbody tr th {\n",
       "        vertical-align: top;\n",
       "    }\n",
       "\n",
       "    .dataframe thead th {\n",
       "        text-align: right;\n",
       "    }\n",
       "</style>\n",
       "<table border=\"1\" class=\"dataframe\">\n",
       "  <thead>\n",
       "    <tr style=\"text-align: right;\">\n",
       "      <th></th>\n",
       "      <th>ID</th>\n",
       "      <th>Name</th>\n",
       "      <th>Age</th>\n",
       "      <th>Photo</th>\n",
       "      <th>Nationality</th>\n",
       "      <th>Flag</th>\n",
       "      <th>Overall</th>\n",
       "      <th>Potential</th>\n",
       "      <th>Club</th>\n",
       "      <th>Club Logo</th>\n",
       "      <th>Value</th>\n",
       "      <th>Wage</th>\n",
       "      <th>Special</th>\n",
       "      <th>Preferred Foot</th>\n",
       "      <th>International Reputation</th>\n",
       "      <th>Weak Foot</th>\n",
       "      <th>Skill Moves</th>\n",
       "      <th>Work Rate</th>\n",
       "      <th>Body Type</th>\n",
       "      <th>Real Face</th>\n",
       "      <th>Position</th>\n",
       "      <th>Jersey Number</th>\n",
       "      <th>Joined</th>\n",
       "      <th>Loaned From</th>\n",
       "      <th>Contract Valid Until</th>\n",
       "      <th>Height</th>\n",
       "      <th>Weight</th>\n",
       "      <th>Crossing</th>\n",
       "      <th>Finishing</th>\n",
       "      <th>HeadingAccuracy</th>\n",
       "      <th>ShortPassing</th>\n",
       "      <th>Volleys</th>\n",
       "      <th>Dribbling</th>\n",
       "      <th>Curve</th>\n",
       "      <th>FKAccuracy</th>\n",
       "      <th>LongPassing</th>\n",
       "      <th>BallControl</th>\n",
       "      <th>Acceleration</th>\n",
       "      <th>SprintSpeed</th>\n",
       "      <th>Agility</th>\n",
       "      <th>Reactions</th>\n",
       "      <th>Balance</th>\n",
       "      <th>ShotPower</th>\n",
       "      <th>Jumping</th>\n",
       "      <th>Stamina</th>\n",
       "      <th>Strength</th>\n",
       "      <th>LongShots</th>\n",
       "      <th>Aggression</th>\n",
       "      <th>Interceptions</th>\n",
       "      <th>Positioning</th>\n",
       "      <th>Vision</th>\n",
       "      <th>Penalties</th>\n",
       "      <th>Composure</th>\n",
       "      <th>Marking</th>\n",
       "      <th>StandingTackle</th>\n",
       "      <th>SlidingTackle</th>\n",
       "      <th>GKDiving</th>\n",
       "      <th>GKHandling</th>\n",
       "      <th>GKKicking</th>\n",
       "      <th>GKPositioning</th>\n",
       "      <th>GKReflexes</th>\n",
       "      <th>Best Position</th>\n",
       "      <th>Best Overall Rating</th>\n",
       "      <th>Release Clause</th>\n",
       "      <th>DefensiveAwareness</th>\n",
       "    </tr>\n",
       "  </thead>\n",
       "  <tbody>\n",
       "    <tr>\n",
       "      <th>29</th>\n",
       "      <td>158023</td>\n",
       "      <td>L. Messi</td>\n",
       "      <td>34</td>\n",
       "      <td>https://cdn.sofifa.com/players/158/023/22_60.png</td>\n",
       "      <td>Argentina</td>\n",
       "      <td>https://cdn.sofifa.com/flags/ar.png</td>\n",
       "      <td>93</td>\n",
       "      <td>93</td>\n",
       "      <td>Paris Saint-Germain</td>\n",
       "      <td>https://cdn.sofifa.com/teams/73/30.png</td>\n",
       "      <td>€78M</td>\n",
       "      <td>€320K</td>\n",
       "      <td>2219</td>\n",
       "      <td>Left</td>\n",
       "      <td>5.0</td>\n",
       "      <td>4.0</td>\n",
       "      <td>4.0</td>\n",
       "      <td>Medium/ Low</td>\n",
       "      <td>Unique</td>\n",
       "      <td>Yes</td>\n",
       "      <td>&lt;span class=\"pos pos23\"&gt;RW</td>\n",
       "      <td>30.0</td>\n",
       "      <td>Aug 10, 2021</td>\n",
       "      <td>NaN</td>\n",
       "      <td>2023</td>\n",
       "      <td>170cm</td>\n",
       "      <td>72kg</td>\n",
       "      <td>85.0</td>\n",
       "      <td>95.0</td>\n",
       "      <td>70.0</td>\n",
       "      <td>91.0</td>\n",
       "      <td>88.0</td>\n",
       "      <td>96.0</td>\n",
       "      <td>93.0</td>\n",
       "      <td>94.0</td>\n",
       "      <td>91.0</td>\n",
       "      <td>96.0</td>\n",
       "      <td>91.0</td>\n",
       "      <td>80.0</td>\n",
       "      <td>91.0</td>\n",
       "      <td>94.0</td>\n",
       "      <td>95.0</td>\n",
       "      <td>86.0</td>\n",
       "      <td>68.0</td>\n",
       "      <td>72.0</td>\n",
       "      <td>69.0</td>\n",
       "      <td>94.0</td>\n",
       "      <td>44.0</td>\n",
       "      <td>40.0</td>\n",
       "      <td>93.0</td>\n",
       "      <td>95.0</td>\n",
       "      <td>75.0</td>\n",
       "      <td>96.0</td>\n",
       "      <td>NaN</td>\n",
       "      <td>35.0</td>\n",
       "      <td>24.0</td>\n",
       "      <td>6.0</td>\n",
       "      <td>11.0</td>\n",
       "      <td>15.0</td>\n",
       "      <td>14.0</td>\n",
       "      <td>8.0</td>\n",
       "      <td>RW</td>\n",
       "      <td>93.0</td>\n",
       "      <td>€144.3M</td>\n",
       "      <td>20.0</td>\n",
       "    </tr>\n",
       "    <tr>\n",
       "      <th>33</th>\n",
       "      <td>188545</td>\n",
       "      <td>R. Lewandowski</td>\n",
       "      <td>32</td>\n",
       "      <td>https://cdn.sofifa.com/players/188/545/22_60.png</td>\n",
       "      <td>Poland</td>\n",
       "      <td>https://cdn.sofifa.com/flags/pl.png</td>\n",
       "      <td>92</td>\n",
       "      <td>92</td>\n",
       "      <td>FC Bayern München</td>\n",
       "      <td>https://cdn.sofifa.com/teams/21/30.png</td>\n",
       "      <td>€119.5M</td>\n",
       "      <td>€270K</td>\n",
       "      <td>2212</td>\n",
       "      <td>Right</td>\n",
       "      <td>5.0</td>\n",
       "      <td>4.0</td>\n",
       "      <td>4.0</td>\n",
       "      <td>High/ Medium</td>\n",
       "      <td>Unique</td>\n",
       "      <td>Yes</td>\n",
       "      <td>&lt;span class=\"pos pos25\"&gt;ST</td>\n",
       "      <td>9.0</td>\n",
       "      <td>Jul 1, 2014</td>\n",
       "      <td>NaN</td>\n",
       "      <td>2023</td>\n",
       "      <td>185cm</td>\n",
       "      <td>81kg</td>\n",
       "      <td>71.0</td>\n",
       "      <td>95.0</td>\n",
       "      <td>90.0</td>\n",
       "      <td>85.0</td>\n",
       "      <td>89.0</td>\n",
       "      <td>85.0</td>\n",
       "      <td>79.0</td>\n",
       "      <td>85.0</td>\n",
       "      <td>70.0</td>\n",
       "      <td>88.0</td>\n",
       "      <td>77.0</td>\n",
       "      <td>79.0</td>\n",
       "      <td>77.0</td>\n",
       "      <td>93.0</td>\n",
       "      <td>82.0</td>\n",
       "      <td>90.0</td>\n",
       "      <td>85.0</td>\n",
       "      <td>76.0</td>\n",
       "      <td>86.0</td>\n",
       "      <td>87.0</td>\n",
       "      <td>81.0</td>\n",
       "      <td>49.0</td>\n",
       "      <td>95.0</td>\n",
       "      <td>81.0</td>\n",
       "      <td>90.0</td>\n",
       "      <td>88.0</td>\n",
       "      <td>NaN</td>\n",
       "      <td>42.0</td>\n",
       "      <td>19.0</td>\n",
       "      <td>15.0</td>\n",
       "      <td>6.0</td>\n",
       "      <td>12.0</td>\n",
       "      <td>8.0</td>\n",
       "      <td>10.0</td>\n",
       "      <td>ST</td>\n",
       "      <td>92.0</td>\n",
       "      <td>€197.2M</td>\n",
       "      <td>35.0</td>\n",
       "    </tr>\n",
       "  </tbody>\n",
       "</table>\n",
       "</div>"
      ],
      "text/plain": [
       "        ID            Name  Age  \\\n",
       "29  158023        L. Messi   34   \n",
       "33  188545  R. Lewandowski   32   \n",
       "\n",
       "                                               Photo Nationality  \\\n",
       "29  https://cdn.sofifa.com/players/158/023/22_60.png   Argentina   \n",
       "33  https://cdn.sofifa.com/players/188/545/22_60.png      Poland   \n",
       "\n",
       "                                   Flag  Overall  Potential  \\\n",
       "29  https://cdn.sofifa.com/flags/ar.png       93         93   \n",
       "33  https://cdn.sofifa.com/flags/pl.png       92         92   \n",
       "\n",
       "                   Club                               Club Logo    Value  \\\n",
       "29  Paris Saint-Germain  https://cdn.sofifa.com/teams/73/30.png     €78M   \n",
       "33    FC Bayern München  https://cdn.sofifa.com/teams/21/30.png  €119.5M   \n",
       "\n",
       "     Wage  Special Preferred Foot  International Reputation  Weak Foot  \\\n",
       "29  €320K     2219           Left                       5.0        4.0   \n",
       "33  €270K     2212          Right                       5.0        4.0   \n",
       "\n",
       "    Skill Moves     Work Rate Body Type Real Face                    Position  \\\n",
       "29          4.0   Medium/ Low    Unique       Yes  <span class=\"pos pos23\">RW   \n",
       "33          4.0  High/ Medium    Unique       Yes  <span class=\"pos pos25\">ST   \n",
       "\n",
       "    Jersey Number        Joined Loaned From Contract Valid Until Height  \\\n",
       "29           30.0  Aug 10, 2021         NaN                 2023  170cm   \n",
       "33            9.0   Jul 1, 2014         NaN                 2023  185cm   \n",
       "\n",
       "   Weight  Crossing  Finishing  HeadingAccuracy  ShortPassing  Volleys  \\\n",
       "29   72kg      85.0       95.0             70.0          91.0     88.0   \n",
       "33   81kg      71.0       95.0             90.0          85.0     89.0   \n",
       "\n",
       "    Dribbling  Curve  FKAccuracy  LongPassing  BallControl  Acceleration  \\\n",
       "29       96.0   93.0        94.0         91.0         96.0          91.0   \n",
       "33       85.0   79.0        85.0         70.0         88.0          77.0   \n",
       "\n",
       "    SprintSpeed  Agility  Reactions  Balance  ShotPower  Jumping  Stamina  \\\n",
       "29         80.0     91.0       94.0     95.0       86.0     68.0     72.0   \n",
       "33         79.0     77.0       93.0     82.0       90.0     85.0     76.0   \n",
       "\n",
       "    Strength  LongShots  Aggression  Interceptions  Positioning  Vision  \\\n",
       "29      69.0       94.0        44.0           40.0         93.0    95.0   \n",
       "33      86.0       87.0        81.0           49.0         95.0    81.0   \n",
       "\n",
       "    Penalties  Composure  Marking  StandingTackle  SlidingTackle  GKDiving  \\\n",
       "29       75.0       96.0      NaN            35.0           24.0       6.0   \n",
       "33       90.0       88.0      NaN            42.0           19.0      15.0   \n",
       "\n",
       "    GKHandling  GKKicking  GKPositioning  GKReflexes Best Position  \\\n",
       "29        11.0       15.0           14.0         8.0            RW   \n",
       "33         6.0       12.0            8.0        10.0            ST   \n",
       "\n",
       "    Best Overall Rating Release Clause  DefensiveAwareness  \n",
       "29                 93.0        €144.3M                20.0  \n",
       "33                 92.0        €197.2M                35.0  "
      ]
     },
     "execution_count": 40,
     "metadata": {},
     "output_type": "execute_result"
    }
   ],
   "source": [
    "df22_full[df22_full['Overall']>91]"
   ]
  },
  {
   "cell_type": "code",
   "execution_count": 41,
   "metadata": {
    "ExecuteTime": {
     "end_time": "2021-12-25T08:46:13.571463Z",
     "start_time": "2021-12-25T08:46:13.428137Z"
    }
   },
   "outputs": [
    {
     "data": {
      "text/plain": [
       "Index(['Age', 'Potential', 'Value', 'Wage', 'Special', 'Preferred Foot',\n",
       "       'International Reputation', 'Weak Foot', 'Skill Moves', 'Height',\n",
       "       'Weight', 'Crossing', 'Finishing', 'HeadingAccuracy', 'ShortPassing',\n",
       "       'Volleys', 'Dribbling', 'Curve', 'FKAccuracy', 'LongPassing',\n",
       "       'BallControl', 'Acceleration', 'SprintSpeed', 'Agility', 'Reactions',\n",
       "       'Balance', 'ShotPower', 'Jumping', 'Stamina', 'Strength', 'LongShots',\n",
       "       'Aggression', 'Interceptions', 'Positioning', 'Vision', 'Penalties',\n",
       "       'Composure', 'StandingTackle', 'SlidingTackle', 'GKDiving',\n",
       "       'GKHandling', 'GKKicking', 'GKPositioning', 'GKReflexes',\n",
       "       'Release Clause', 'DefensiveAwareness'],\n",
       "      dtype='object')"
      ]
     },
     "execution_count": 41,
     "metadata": {},
     "output_type": "execute_result"
    }
   ],
   "source": [
    "X_train.columns"
   ]
  },
  {
   "cell_type": "raw",
   "metadata": {},
   "source": [
    "to makeafunction to use for fifa 119,fifa 20 etc\n",
    "and also for the dev val oot split "
   ]
  },
  {
   "cell_type": "code",
   "execution_count": 42,
   "metadata": {
    "ExecuteTime": {
     "end_time": "2021-12-25T08:46:13.707999Z",
     "start_time": "2021-12-25T08:46:13.576464Z"
    }
   },
   "outputs": [],
   "source": [
    "#no needto drop the non required columns\n",
    "# create a dictionary tofill null vallues\n",
    "# fixthe random setif possible\n",
    "\n",
    "def master_function(dict_null, X_train_columns, df_input, dict_functions, lr_model,xgb_model):\n",
    "    df_orig = df_input.copy()\n",
    "    for x in dict_functions.keys():\n",
    "        df_input[x] = df_input[x].apply(dict_functions[x])\n",
    "    for x in dict_null.keys():\n",
    "        df_input[x].fillna(dict_null[x],inplace=True)\n",
    "    \n",
    "    y_true = df_input['Overall'].values\n",
    "    y_pred_lr = lr_model.predict(df_input[X_train_columns])\n",
    "    y_pred_lr = list(y_pred_lr)\n",
    "    y_pred_lr = [round(x) for x in y_pred_lr]\n",
    "    y_pred_xgb= xgb_model.predict(df_input[X_train_columns])\n",
    "    y_pred_xgb = list(y_pred_xgb)\n",
    "    y_pred_xgb = [round(x) for x in y_pred_xgb]\n",
    "    r2_score_lr = r2_score(y_true, y_pred_lr)\n",
    "    r2_score_xgb = r2_score(y_true, y_pred_xgb)\n",
    "    print(r2_score_lr, r2_score_xgb)\n",
    "    df_orig['Overall_lr'] = y_pred_lr\n",
    "    df_orig['Overall_xgb'] = y_pred_xgb\n",
    "    return [df_orig, r2_score_lr, r2_score_xgb]"
   ]
  },
  {
   "cell_type": "code",
   "execution_count": 43,
   "metadata": {
    "ExecuteTime": {
     "end_time": "2021-12-25T08:46:13.810153Z",
     "start_time": "2021-12-25T08:46:13.718005Z"
    }
   },
   "outputs": [
    {
     "data": {
      "text/plain": [
       "Index(['Age', 'Potential', 'Value', 'Wage', 'Special', 'Preferred Foot',\n",
       "       'International Reputation', 'Weak Foot', 'Skill Moves', 'Height',\n",
       "       'Weight', 'Crossing', 'Finishing', 'HeadingAccuracy', 'ShortPassing',\n",
       "       'Volleys', 'Dribbling', 'Curve', 'FKAccuracy', 'LongPassing',\n",
       "       'BallControl', 'Acceleration', 'SprintSpeed', 'Agility', 'Reactions',\n",
       "       'Balance', 'ShotPower', 'Jumping', 'Stamina', 'Strength', 'LongShots',\n",
       "       'Aggression', 'Interceptions', 'Positioning', 'Vision', 'Penalties',\n",
       "       'Composure', 'StandingTackle', 'SlidingTackle', 'GKDiving',\n",
       "       'GKHandling', 'GKKicking', 'GKPositioning', 'GKReflexes',\n",
       "       'Release Clause', 'DefensiveAwareness'],\n",
       "      dtype='object')"
      ]
     },
     "execution_count": 43,
     "metadata": {},
     "output_type": "execute_result"
    }
   ],
   "source": [
    "X_train.columns"
   ]
  },
  {
   "cell_type": "code",
   "execution_count": 52,
   "metadata": {
    "ExecuteTime": {
     "end_time": "2021-12-25T08:48:12.404342Z",
     "start_time": "2021-12-25T08:48:11.244063Z"
    },
    "scrolled": false
   },
   "outputs": [
    {
     "name": "stdout",
     "output_type": "stream",
     "text": [
      "0.9289014604350047 0.9402360790032406\n"
     ]
    }
   ],
   "source": [
    "df21_full = pd.read_csv('FIFA21_official_data.csv')\n",
    "df21_cleaned, r2_lr_21, r2_xgb_21 =  master_function(dict_null, X_train.columns, df21_full, dict_functions, regr,xgb_regr)"
   ]
  },
  {
   "cell_type": "code",
   "execution_count": 53,
   "metadata": {
    "ExecuteTime": {
     "end_time": "2021-12-25T08:49:41.772231Z",
     "start_time": "2021-12-25T08:49:40.473533Z"
    }
   },
   "outputs": [
    {
     "name": "stdout",
     "output_type": "stream",
     "text": [
      "0.9301795338193056 0.9339680414456392\n"
     ]
    }
   ],
   "source": [
    "df20_full = pd.read_csv('FIFA20_official_data.csv')\n",
    "df20_cleaned, r2_lr_20, r2_xgb_20 =  master_function(dict_null, X_train.columns, df20_full, dict_functions, regr,xgb_regr)"
   ]
  },
  {
   "cell_type": "code",
   "execution_count": 57,
   "metadata": {
    "ExecuteTime": {
     "end_time": "2021-12-25T08:53:14.210909Z",
     "start_time": "2021-12-25T08:53:12.585328Z"
    }
   },
   "outputs": [],
   "source": [
    "df19_full = pd.read_csv('FIFA19_official_data.csv')\n",
    "df18_full = pd.read_csv('FIFA18_official_data.csv')\n",
    "df17_full = pd.read_csv('FIFA17_official_data.csv')"
   ]
  },
  {
   "cell_type": "code",
   "execution_count": 58,
   "metadata": {
    "ExecuteTime": {
     "end_time": "2021-12-25T09:00:20.599072Z",
     "start_time": "2021-12-25T09:00:20.591066Z"
    }
   },
   "outputs": [
    {
     "name": "stdout",
     "output_type": "stream",
     "text": [
      "(17560, 63) (17927, 64) (17943, 64) (17104, 65)\n"
     ]
    }
   ],
   "source": [
    "print(df17_full.shape, df18_full.shape, df19_full.shape, df20_full.shape)"
   ]
  },
  {
   "cell_type": "code",
   "execution_count": 60,
   "metadata": {
    "ExecuteTime": {
     "end_time": "2021-12-25T09:02:27.427325Z",
     "start_time": "2021-12-25T09:02:27.413318Z"
    }
   },
   "outputs": [
    {
     "name": "stdout",
     "output_type": "stream",
     "text": [
      "fifa_19_data\n",
      "DefensiveAwareness\n",
      "fifa_18_data\n",
      "DefensiveAwareness\n",
      "fifa_17_data\n",
      "Release Clause\n",
      "DefensiveAwareness\n"
     ]
    }
   ],
   "source": [
    "print('fifa_19_data')\n",
    "for col in df20_full.columns:\n",
    "    if col not in df19_full.columns:\n",
    "        print(col)\n",
    "\n",
    "print('fifa_18_data')\n",
    "for col in df20_full.columns:\n",
    "    if col not in df18_full.columns:\n",
    "        print(col)\n",
    "\n",
    "print('fifa_17_data')\n",
    "for col in df20_full.columns:\n",
    "    if col not in df17_full.columns:\n",
    "        print(col)"
   ]
  },
  {
   "cell_type": "code",
   "execution_count": 61,
   "metadata": {
    "ExecuteTime": {
     "end_time": "2021-12-25T09:03:15.177018Z",
     "start_time": "2021-12-25T09:03:15.155000Z"
    }
   },
   "outputs": [
    {
     "ename": "AttributeError",
     "evalue": "'LinearRegression' object has no attribute 'feature_importances_'",
     "output_type": "error",
     "traceback": [
      "\u001b[1;31m---------------------------------------------------------------------------\u001b[0m",
      "\u001b[1;31mAttributeError\u001b[0m                            Traceback (most recent call last)",
      "\u001b[1;32m~\\AppData\\Local\\Temp/ipykernel_396/3300054125.py\u001b[0m in \u001b[0;36m<module>\u001b[1;34m\u001b[0m\n\u001b[1;32m----> 1\u001b[1;33m \u001b[0mregr\u001b[0m\u001b[1;33m.\u001b[0m\u001b[0mfeature_importances_\u001b[0m\u001b[1;33m\u001b[0m\u001b[1;33m\u001b[0m\u001b[0m\n\u001b[0m",
      "\u001b[1;31mAttributeError\u001b[0m: 'LinearRegression' object has no attribute 'feature_importances_'"
     ]
    }
   ],
   "source": [
    "regr.feature_importances_"
   ]
  },
  {
   "cell_type": "code",
   "execution_count": 63,
   "metadata": {
    "ExecuteTime": {
     "end_time": "2021-12-25T09:05:18.438720Z",
     "start_time": "2021-12-25T09:05:17.823667Z"
    }
   },
   "outputs": [
    {
     "name": "stdout",
     "output_type": "stream",
     "text": [
      "Help on XGBRegressor in module xgboost.sklearn object:\n",
      "\n",
      "class XGBRegressor(XGBModel, sklearn.base.RegressorMixin)\n",
      " |  XGBRegressor(*, objective: Union[str, Callable[[numpy.ndarray, numpy.ndarray], Tuple[numpy.ndarray, numpy.ndarray]], NoneType] = 'reg:squarederror', **kwargs: Any) -> None\n",
      " |  \n",
      " |  Implementation of the scikit-learn API for XGBoost regression.\n",
      " |  \n",
      " |  \n",
      " |  Parameters\n",
      " |  ----------\n",
      " |  \n",
      " |      n_estimators : int\n",
      " |          Number of gradient boosted trees.  Equivalent to number of boosting\n",
      " |          rounds.\n",
      " |  \n",
      " |      max_depth :  Optional[int]\n",
      " |          Maximum tree depth for base learners.\n",
      " |      learning_rate : Optional[float]\n",
      " |          Boosting learning rate (xgb's \"eta\")\n",
      " |      verbosity : Optional[int]\n",
      " |          The degree of verbosity. Valid values are 0 (silent) - 3 (debug).\n",
      " |      objective : typing.Union[str, typing.Callable[[numpy.ndarray, numpy.ndarray], typing.Tuple[numpy.ndarray, numpy.ndarray]], NoneType]\n",
      " |          Specify the learning task and the corresponding learning objective or\n",
      " |          a custom objective function to be used (see note below).\n",
      " |      booster: Optional[str]\n",
      " |          Specify which booster to use: gbtree, gblinear or dart.\n",
      " |      tree_method: Optional[str]\n",
      " |          Specify which tree method to use.  Default to auto.  If this parameter\n",
      " |          is set to default, XGBoost will choose the most conservative option\n",
      " |          available.  It's recommended to study this option from the parameters\n",
      " |          document: https://xgboost.readthedocs.io/en/latest/treemethod.html.\n",
      " |      n_jobs : Optional[int]\n",
      " |          Number of parallel threads used to run xgboost.  When used with other Scikit-Learn\n",
      " |          algorithms like grid search, you may choose which algorithm to parallelize and\n",
      " |          balance the threads.  Creating thread contention will significantly slow down both\n",
      " |          algorithms.\n",
      " |      gamma : Optional[float]\n",
      " |          Minimum loss reduction required to make a further partition on a leaf\n",
      " |          node of the tree.\n",
      " |      min_child_weight : Optional[float]\n",
      " |          Minimum sum of instance weight(hessian) needed in a child.\n",
      " |      max_delta_step : Optional[float]\n",
      " |          Maximum delta step we allow each tree's weight estimation to be.\n",
      " |      subsample : Optional[float]\n",
      " |          Subsample ratio of the training instance.\n",
      " |      colsample_bytree : Optional[float]\n",
      " |          Subsample ratio of columns when constructing each tree.\n",
      " |      colsample_bylevel : Optional[float]\n",
      " |          Subsample ratio of columns for each level.\n",
      " |      colsample_bynode : Optional[float]\n",
      " |          Subsample ratio of columns for each split.\n",
      " |      reg_alpha : Optional[float]\n",
      " |          L1 regularization term on weights (xgb's alpha).\n",
      " |      reg_lambda : Optional[float]\n",
      " |          L2 regularization term on weights (xgb's lambda).\n",
      " |      scale_pos_weight : Optional[float]\n",
      " |          Balancing of positive and negative weights.\n",
      " |      base_score : Optional[float]\n",
      " |          The initial prediction score of all instances, global bias.\n",
      " |      random_state : Optional[Union[numpy.random.RandomState, int]]\n",
      " |          Random number seed.\n",
      " |  \n",
      " |          .. note::\n",
      " |  \n",
      " |             Using gblinear booster with shotgun updater is nondeterministic as\n",
      " |             it uses Hogwild algorithm.\n",
      " |  \n",
      " |      missing : float, default np.nan\n",
      " |          Value in the data which needs to be present as a missing value.\n",
      " |      num_parallel_tree: Optional[int]\n",
      " |          Used for boosting random forest.\n",
      " |      monotone_constraints : Optional[Union[Dict[str, int], str]]\n",
      " |          Constraint of variable monotonicity.  See tutorial for more\n",
      " |          information.\n",
      " |      interaction_constraints : Optional[Union[str, List[Tuple[str]]]]\n",
      " |          Constraints for interaction representing permitted interactions.  The\n",
      " |          constraints must be specified in the form of a nest list, e.g. [[0, 1],\n",
      " |          [2, 3, 4]], where each inner list is a group of indices of features\n",
      " |          that are allowed to interact with each other.  See tutorial for more\n",
      " |          information\n",
      " |      importance_type: Optional[str]\n",
      " |          The feature importance type for the feature_importances\\_ property:\n",
      " |  \n",
      " |          * For tree model, it's either \"gain\", \"weight\", \"cover\", \"total_gain\" or\n",
      " |            \"total_cover\".\n",
      " |          * For linear model, only \"weight\" is defined and it's the normalized coefficients\n",
      " |            without bias.\n",
      " |  \n",
      " |      gpu_id : Optional[int]\n",
      " |          Device ordinal.\n",
      " |      validate_parameters : Optional[bool]\n",
      " |          Give warnings for unknown parameter.\n",
      " |      predictor : Optional[str]\n",
      " |          Force XGBoost to use specific predictor, available choices are [cpu_predictor,\n",
      " |          gpu_predictor].\n",
      " |      enable_categorical : bool\n",
      " |  \n",
      " |          .. versionadded:: 1.5.0\n",
      " |  \n",
      " |          Experimental support for categorical data.  Do not set to true unless you are\n",
      " |          interested in development. Only valid when `gpu_hist` and dataframe are used.\n",
      " |  \n",
      " |      kwargs : dict, optional\n",
      " |          Keyword arguments for XGBoost Booster object.  Full documentation of\n",
      " |          parameters can be found here:\n",
      " |          https://github.com/dmlc/xgboost/blob/master/doc/parameter.rst.\n",
      " |          Attempting to set a parameter via the constructor args and \\*\\*kwargs\n",
      " |          dict simultaneously will result in a TypeError.\n",
      " |  \n",
      " |          .. note:: \\*\\*kwargs unsupported by scikit-learn\n",
      " |  \n",
      " |              \\*\\*kwargs is unsupported by scikit-learn.  We do not guarantee\n",
      " |              that parameters passed via this argument will interact properly\n",
      " |              with scikit-learn.\n",
      " |  \n",
      " |          .. note::  Custom objective function\n",
      " |  \n",
      " |              A custom objective function can be provided for the ``objective``\n",
      " |              parameter. In this case, it should have the signature\n",
      " |              ``objective(y_true, y_pred) -> grad, hess``:\n",
      " |  \n",
      " |              y_true: array_like of shape [n_samples]\n",
      " |                  The target values\n",
      " |              y_pred: array_like of shape [n_samples]\n",
      " |                  The predicted values\n",
      " |  \n",
      " |              grad: array_like of shape [n_samples]\n",
      " |                  The value of the gradient for each sample point.\n",
      " |              hess: array_like of shape [n_samples]\n",
      " |                  The value of the second derivative for each sample point\n",
      " |  \n",
      " |  Method resolution order:\n",
      " |      XGBRegressor\n",
      " |      XGBModel\n",
      " |      sklearn.base.BaseEstimator\n",
      " |      sklearn.base.RegressorMixin\n",
      " |      builtins.object\n",
      " |  \n",
      " |  Methods defined here:\n",
      " |  \n",
      " |  __init__(self, *, objective: Union[str, Callable[[numpy.ndarray, numpy.ndarray], Tuple[numpy.ndarray, numpy.ndarray]], NoneType] = 'reg:squarederror', **kwargs: Any) -> None\n",
      " |      Initialize self.  See help(type(self)) for accurate signature.\n",
      " |  \n",
      " |  ----------------------------------------------------------------------\n",
      " |  Methods inherited from XGBModel:\n",
      " |  \n",
      " |  __sklearn_is_fitted__(self) -> bool\n",
      " |  \n",
      " |  apply(self, X: Any, ntree_limit: int = 0, iteration_range: Union[Tuple[int, int], NoneType] = None) -> numpy.ndarray\n",
      " |      Return the predicted leaf every tree for each sample. If the model is trained with\n",
      " |      early stopping, then `best_iteration` is used automatically.\n",
      " |      \n",
      " |      Parameters\n",
      " |      ----------\n",
      " |      X : array_like, shape=[n_samples, n_features]\n",
      " |          Input features matrix.\n",
      " |      \n",
      " |      iteration_range :\n",
      " |          See :py:meth:`xgboost.XGBRegressor.predict`.\n",
      " |      \n",
      " |      ntree_limit :\n",
      " |          Deprecated, use ``iteration_range`` instead.\n",
      " |      \n",
      " |      Returns\n",
      " |      -------\n",
      " |      X_leaves : array_like, shape=[n_samples, n_trees]\n",
      " |          For each datapoint x in X and for each tree, return the index of the\n",
      " |          leaf x ends up in. Leaves are numbered within\n",
      " |          ``[0; 2**(self.max_depth+1))``, possibly with gaps in the numbering.\n",
      " |  \n",
      " |  evals_result(self) -> Dict[str, Dict[str, Union[List[float], List[Tuple[float, float]]]]]\n",
      " |      Return the evaluation results.\n",
      " |      \n",
      " |      If **eval_set** is passed to the `fit` function, you can call\n",
      " |      ``evals_result()`` to get evaluation results for all passed **eval_sets**.\n",
      " |      When **eval_metric** is also passed to the `fit` function, the\n",
      " |      **evals_result** will contain the **eval_metrics** passed to the `fit` function.\n",
      " |      \n",
      " |      Returns\n",
      " |      -------\n",
      " |      evals_result : dictionary\n",
      " |      \n",
      " |      Example\n",
      " |      -------\n",
      " |      \n",
      " |      .. code-block:: python\n",
      " |      \n",
      " |          param_dist = {'objective':'binary:logistic', 'n_estimators':2}\n",
      " |      \n",
      " |          clf = xgb.XGBModel(**param_dist)\n",
      " |      \n",
      " |          clf.fit(X_train, y_train,\n",
      " |                  eval_set=[(X_train, y_train), (X_test, y_test)],\n",
      " |                  eval_metric='logloss',\n",
      " |                  verbose=True)\n",
      " |      \n",
      " |          evals_result = clf.evals_result()\n",
      " |      \n",
      " |      The variable **evals_result** will contain:\n",
      " |      \n",
      " |      .. code-block:: python\n",
      " |      \n",
      " |          {'validation_0': {'logloss': ['0.604835', '0.531479']},\n",
      " |           'validation_1': {'logloss': ['0.41965', '0.17686']}}\n",
      " |  \n",
      " |  fit(self, X: Any, y: Any, *, sample_weight: Union[Any, NoneType] = None, base_margin: Union[Any, NoneType] = None, eval_set: Union[List[Tuple[Any, Any]], NoneType] = None, eval_metric: Union[str, List[str], Callable[[numpy.ndarray, xgboost.core.DMatrix], Tuple[str, float]], NoneType] = None, early_stopping_rounds: Union[int, NoneType] = None, verbose: Union[bool, NoneType] = True, xgb_model: Union[xgboost.core.Booster, ForwardRef('XGBModel'), str, NoneType] = None, sample_weight_eval_set: Union[List[Any], NoneType] = None, base_margin_eval_set: Union[List[Any], NoneType] = None, feature_weights: Union[Any, NoneType] = None, callbacks: Union[List[xgboost.callback.TrainingCallback], NoneType] = None) -> 'XGBModel'\n",
      " |      Fit gradient boosting model.\n",
      " |      \n",
      " |      Note that calling ``fit()`` multiple times will cause the model object to be\n",
      " |      re-fit from scratch. To resume training from a previous checkpoint, explicitly\n",
      " |      pass ``xgb_model`` argument.\n",
      " |      \n",
      " |      Parameters\n",
      " |      ----------\n",
      " |      X :\n",
      " |          Feature matrix\n",
      " |      y :\n",
      " |          Labels\n",
      " |      sample_weight :\n",
      " |          instance weights\n",
      " |      base_margin :\n",
      " |          global bias for each instance.\n",
      " |      eval_set :\n",
      " |          A list of (X, y) tuple pairs to use as validation sets, for which\n",
      " |          metrics will be computed.\n",
      " |          Validation metrics will help us track the performance of the model.\n",
      " |      eval_metric :\n",
      " |          If a str, should be a built-in evaluation metric to use. See doc/parameter.rst.\n",
      " |      \n",
      " |          If a list of str, should be the list of multiple built-in evaluation metrics\n",
      " |          to use.\n",
      " |      \n",
      " |          If callable, a custom evaluation metric. The call signature is\n",
      " |          ``func(y_predicted, y_true)`` where ``y_true`` will be a DMatrix object such\n",
      " |          that you may need to call the ``get_label`` method. It must return a str,\n",
      " |          value pair where the str is a name for the evaluation and value is the value\n",
      " |          of the evaluation function. The callable custom objective is always minimized.\n",
      " |      early_stopping_rounds :\n",
      " |          Activates early stopping. Validation metric needs to improve at least once in\n",
      " |          every **early_stopping_rounds** round(s) to continue training.\n",
      " |          Requires at least one item in **eval_set**.\n",
      " |      \n",
      " |          The method returns the model from the last iteration (not the best one).\n",
      " |          If there's more than one item in **eval_set**, the last entry will be used\n",
      " |          for early stopping.\n",
      " |      \n",
      " |          If there's more than one metric in **eval_metric**, the last metric will be\n",
      " |          used for early stopping.\n",
      " |      \n",
      " |          If early stopping occurs, the model will have three additional fields:\n",
      " |          ``clf.best_score``, ``clf.best_iteration``.\n",
      " |      verbose :\n",
      " |          If `verbose` and an evaluation set is used, writes the evaluation metric\n",
      " |          measured on the validation set to stderr.\n",
      " |      xgb_model :\n",
      " |          file name of stored XGBoost model or 'Booster' instance XGBoost model to be\n",
      " |          loaded before training (allows training continuation).\n",
      " |      sample_weight_eval_set :\n",
      " |          A list of the form [L_1, L_2, ..., L_n], where each L_i is an array like\n",
      " |          object storing instance weights for the i-th validation set.\n",
      " |      base_margin_eval_set :\n",
      " |          A list of the form [M_1, M_2, ..., M_n], where each M_i is an array like\n",
      " |          object storing base margin for the i-th validation set.\n",
      " |      feature_weights :\n",
      " |          Weight for each feature, defines the probability of each feature being\n",
      " |          selected when colsample is being used.  All values must be greater than 0,\n",
      " |          otherwise a `ValueError` is thrown.  Only available for `hist`, `gpu_hist` and\n",
      " |          `exact` tree methods.\n",
      " |      callbacks :\n",
      " |          List of callback functions that are applied at end of each iteration.\n",
      " |          It is possible to use predefined callbacks by using :ref:`callback_api`.\n",
      " |          Example:\n",
      " |      \n",
      " |          .. code-block:: python\n",
      " |      \n",
      " |              callbacks = [xgb.callback.EarlyStopping(rounds=early_stopping_rounds,\n",
      " |                                                      save_best=True)]\n",
      " |  \n",
      " |  get_booster(self) -> xgboost.core.Booster\n",
      " |      Get the underlying xgboost Booster of this model.\n",
      " |      \n",
      " |      This will raise an exception when fit was not called\n",
      " |      \n",
      " |      Returns\n",
      " |      -------\n",
      " |      booster : a xgboost booster of underlying model\n",
      " |  \n",
      " |  get_num_boosting_rounds(self) -> int\n",
      " |      Gets the number of xgboost boosting rounds.\n",
      " |  \n",
      " |  get_params(self, deep: bool = True) -> Dict[str, Any]\n",
      " |      Get parameters.\n",
      " |  \n",
      " |  get_xgb_params(self) -> Dict[str, Any]\n",
      " |      Get xgboost specific parameters.\n",
      " |  \n",
      " |  load_model(self, fname: Union[str, bytearray, os.PathLike]) -> None\n",
      " |      Load the model from a file or bytearray. Path to file can be local\n",
      " |      or as an URI.\n",
      " |      \n",
      " |      The model is loaded from XGBoost format which is universal among the various\n",
      " |      XGBoost interfaces. Auxiliary attributes of the Python Booster object (such as\n",
      " |      feature_names) will not be loaded when using binary format.  To save those\n",
      " |      attributes, use JSON instead.  See: `Model IO\n",
      " |      <https://xgboost.readthedocs.io/en/stable/tutorials/saving_model.html>`_ for more\n",
      " |      info.\n",
      " |      \n",
      " |      Parameters\n",
      " |      ----------\n",
      " |      fname :\n",
      " |          Input file name or memory buffer(see also save_raw)\n",
      " |  \n",
      " |  predict(self, X: Any, output_margin: bool = False, ntree_limit: Union[int, NoneType] = None, validate_features: bool = True, base_margin: Union[Any, NoneType] = None, iteration_range: Union[Tuple[int, int], NoneType] = None) -> numpy.ndarray\n",
      " |      Predict with `X`.  If the model is trained with early stopping, then `best_iteration`\n",
      " |      is used automatically.  For tree models, when data is on GPU, like cupy array or\n",
      " |      cuDF dataframe and `predictor` is not specified, the prediction is run on GPU\n",
      " |      automatically, otherwise it will run on CPU.\n",
      " |      \n",
      " |      .. note:: This function is only thread safe for `gbtree` and `dart`.\n",
      " |      \n",
      " |      Parameters\n",
      " |      ----------\n",
      " |      X :\n",
      " |          Data to predict with.\n",
      " |      output_margin :\n",
      " |          Whether to output the raw untransformed margin value.\n",
      " |      ntree_limit :\n",
      " |          Deprecated, use `iteration_range` instead.\n",
      " |      validate_features :\n",
      " |          When this is True, validate that the Booster's and data's feature_names are\n",
      " |          identical.  Otherwise, it is assumed that the feature_names are the same.\n",
      " |      base_margin :\n",
      " |          Margin added to prediction.\n",
      " |      iteration_range :\n",
      " |          Specifies which layer of trees are used in prediction.  For example, if a\n",
      " |          random forest is trained with 100 rounds.  Specifying ``iteration_range=(10,\n",
      " |          20)``, then only the forests built during [10, 20) (half open set) rounds are\n",
      " |          used in this prediction.\n",
      " |      \n",
      " |          .. versionadded:: 1.4.0\n",
      " |      \n",
      " |      Returns\n",
      " |      -------\n",
      " |      prediction\n",
      " |  \n",
      " |  save_model(self, fname: Union[str, os.PathLike]) -> None\n",
      " |      Save the model to a file.\n",
      " |      \n",
      " |      The model is saved in an XGBoost internal format which is universal among the\n",
      " |      various XGBoost interfaces. Auxiliary attributes of the Python Booster object\n",
      " |      (such as feature_names) will not be saved when using binary format.  To save those\n",
      " |      attributes, use JSON instead. See: `Model IO\n",
      " |      <https://xgboost.readthedocs.io/en/stable/tutorials/saving_model.html>`_ for more\n",
      " |      info.\n",
      " |      \n",
      " |      Parameters\n",
      " |      ----------\n",
      " |      fname : string or os.PathLike\n",
      " |          Output file name\n",
      " |  \n",
      " |  set_params(self, **params: Any) -> 'XGBModel'\n",
      " |      Set the parameters of this estimator.  Modification of the sklearn method to\n",
      " |      allow unknown kwargs. This allows using the full range of xgboost\n",
      " |      parameters that are not defined as member variables in sklearn grid\n",
      " |      search.\n",
      " |      \n",
      " |      Returns\n",
      " |      -------\n",
      " |      self\n",
      " |  \n",
      " |  ----------------------------------------------------------------------\n",
      " |  Readonly properties inherited from XGBModel:\n",
      " |  \n",
      " |  best_iteration\n",
      " |  \n",
      " |  best_ntree_limit\n",
      " |  \n",
      " |  best_score\n",
      " |  \n",
      " |  coef_\n",
      " |      Coefficients property\n",
      " |      \n",
      " |      .. note:: Coefficients are defined only for linear learners\n",
      " |      \n",
      " |          Coefficients are only defined when the linear model is chosen as\n",
      " |          base learner (`booster=gblinear`). It is not defined for other base\n",
      " |          learner types, such as tree learners (`booster=gbtree`).\n",
      " |      \n",
      " |      Returns\n",
      " |      -------\n",
      " |      coef_ : array of shape ``[n_features]`` or ``[n_classes, n_features]``\n",
      " |  \n",
      " |  feature_importances_\n",
      " |      Feature importances property, return depends on `importance_type` parameter.\n",
      " |      \n",
      " |      Returns\n",
      " |      -------\n",
      " |      feature_importances_ : array of shape ``[n_features]`` except for multi-class\n",
      " |      linear model, which returns an array with shape `(n_features, n_classes)`\n",
      " |  \n",
      " |  intercept_\n",
      " |      Intercept (bias) property\n",
      " |      \n",
      " |      .. note:: Intercept is defined only for linear learners\n",
      " |      \n",
      " |          Intercept (bias) is only defined when the linear model is chosen as base\n",
      " |          learner (`booster=gblinear`). It is not defined for other base learner types, such\n",
      " |          as tree learners (`booster=gbtree`).\n",
      " |      \n",
      " |      Returns\n",
      " |      -------\n",
      " |      intercept_ : array of shape ``(1,)`` or ``[n_classes]``\n",
      " |  \n",
      " |  n_features_in_\n",
      " |  \n",
      " |  ----------------------------------------------------------------------\n",
      " |  Methods inherited from sklearn.base.BaseEstimator:\n",
      " |  \n",
      " |  __getstate__(self)\n",
      " |  \n",
      " |  __repr__(self, N_CHAR_MAX=700)\n",
      " |      Return repr(self).\n",
      " |  \n",
      " |  __setstate__(self, state)\n",
      " |  \n",
      " |  ----------------------------------------------------------------------\n",
      " |  Data descriptors inherited from sklearn.base.BaseEstimator:\n",
      " |  \n",
      " |  __dict__\n",
      " |      dictionary for instance variables (if defined)\n",
      " |  \n",
      " |  __weakref__\n",
      " |      list of weak references to the object (if defined)\n",
      " |  \n",
      " |  ----------------------------------------------------------------------\n",
      " |  Methods inherited from sklearn.base.RegressorMixin:\n",
      " |  \n",
      " |  score(self, X, y, sample_weight=None)\n",
      " |      Return the coefficient of determination of the prediction.\n",
      " |      \n",
      " |      The coefficient of determination :math:`R^2` is defined as\n",
      " |      :math:`(1 - \\frac{u}{v})`, where :math:`u` is the residual\n",
      " |      sum of squares ``((y_true - y_pred)** 2).sum()`` and :math:`v`\n",
      " |      is the total sum of squares ``((y_true - y_true.mean()) ** 2).sum()``.\n",
      " |      The best possible score is 1.0 and it can be negative (because the\n",
      " |      model can be arbitrarily worse). A constant model that always predicts\n",
      " |      the expected value of `y`, disregarding the input features, would get\n",
      " |      a :math:`R^2` score of 0.0.\n",
      " |      \n",
      " |      Parameters\n",
      " |      ----------\n",
      " |      X : array-like of shape (n_samples, n_features)\n",
      " |          Test samples. For some estimators this may be a precomputed\n",
      " |          kernel matrix or a list of generic objects instead with shape\n",
      " |          ``(n_samples, n_samples_fitted)``, where ``n_samples_fitted``\n",
      " |          is the number of samples used in the fitting for the estimator.\n",
      " |      \n",
      " |      y : array-like of shape (n_samples,) or (n_samples, n_outputs)\n",
      " |          True values for `X`.\n",
      " |      \n",
      " |      sample_weight : array-like of shape (n_samples,), default=None\n",
      " |          Sample weights.\n",
      " |      \n",
      " |      Returns\n",
      " |      -------\n",
      " |      score : float\n",
      " |          :math:`R^2` of ``self.predict(X)`` wrt. `y`.\n",
      " |      \n",
      " |      Notes\n",
      " |      -----\n",
      " |      The :math:`R^2` score used when calling ``score`` on a regressor uses\n",
      " |      ``multioutput='uniform_average'`` from version 0.23 to keep consistent\n",
      " |      with default value of :func:`~sklearn.metrics.r2_score`.\n",
      " |      This influences the ``score`` method of all the multioutput\n",
      " |      regressors (except for\n",
      " |      :class:`~sklearn.multioutput.MultiOutputRegressor`).\n",
      "\n"
     ]
    }
   ],
   "source": [
    "help(xgb_regr)"
   ]
  },
  {
   "cell_type": "code",
   "execution_count": null,
   "metadata": {},
   "outputs": [],
   "source": []
  },
  {
   "cell_type": "code",
   "execution_count": null,
   "metadata": {},
   "outputs": [],
   "source": []
  },
  {
   "cell_type": "code",
   "execution_count": 56,
   "metadata": {
    "ExecuteTime": {
     "end_time": "2021-12-25T08:50:42.025814Z",
     "start_time": "2021-12-25T08:50:40.976190Z"
    }
   },
   "outputs": [
    {
     "ename": "KeyError",
     "evalue": "'Release Clause'",
     "output_type": "error",
     "traceback": [
      "\u001b[1;31m---------------------------------------------------------------------------\u001b[0m",
      "\u001b[1;31mKeyError\u001b[0m                                  Traceback (most recent call last)",
      "\u001b[1;32me:\\software stuff\\soft\\python\\lib\\site-packages\\pandas\\core\\indexes\\base.py\u001b[0m in \u001b[0;36mget_loc\u001b[1;34m(self, key, method, tolerance)\u001b[0m\n\u001b[0;32m   3360\u001b[0m             \u001b[1;32mtry\u001b[0m\u001b[1;33m:\u001b[0m\u001b[1;33m\u001b[0m\u001b[1;33m\u001b[0m\u001b[0m\n\u001b[1;32m-> 3361\u001b[1;33m                 \u001b[1;32mreturn\u001b[0m \u001b[0mself\u001b[0m\u001b[1;33m.\u001b[0m\u001b[0m_engine\u001b[0m\u001b[1;33m.\u001b[0m\u001b[0mget_loc\u001b[0m\u001b[1;33m(\u001b[0m\u001b[0mcasted_key\u001b[0m\u001b[1;33m)\u001b[0m\u001b[1;33m\u001b[0m\u001b[1;33m\u001b[0m\u001b[0m\n\u001b[0m\u001b[0;32m   3362\u001b[0m             \u001b[1;32mexcept\u001b[0m \u001b[0mKeyError\u001b[0m \u001b[1;32mas\u001b[0m \u001b[0merr\u001b[0m\u001b[1;33m:\u001b[0m\u001b[1;33m\u001b[0m\u001b[1;33m\u001b[0m\u001b[0m\n",
      "\u001b[1;32me:\\software stuff\\soft\\python\\lib\\site-packages\\pandas\\_libs\\index.pyx\u001b[0m in \u001b[0;36mpandas._libs.index.IndexEngine.get_loc\u001b[1;34m()\u001b[0m\n",
      "\u001b[1;32me:\\software stuff\\soft\\python\\lib\\site-packages\\pandas\\_libs\\index.pyx\u001b[0m in \u001b[0;36mpandas._libs.index.IndexEngine.get_loc\u001b[1;34m()\u001b[0m\n",
      "\u001b[1;32mpandas\\_libs\\hashtable_class_helper.pxi\u001b[0m in \u001b[0;36mpandas._libs.hashtable.PyObjectHashTable.get_item\u001b[1;34m()\u001b[0m\n",
      "\u001b[1;32mpandas\\_libs\\hashtable_class_helper.pxi\u001b[0m in \u001b[0;36mpandas._libs.hashtable.PyObjectHashTable.get_item\u001b[1;34m()\u001b[0m\n",
      "\u001b[1;31mKeyError\u001b[0m: 'Release Clause'",
      "\nThe above exception was the direct cause of the following exception:\n",
      "\u001b[1;31mKeyError\u001b[0m                                  Traceback (most recent call last)",
      "\u001b[1;32m~\\AppData\\Local\\Temp/ipykernel_396/140896537.py\u001b[0m in \u001b[0;36m<module>\u001b[1;34m\u001b[0m\n\u001b[0;32m      1\u001b[0m \u001b[0mdf19_full\u001b[0m \u001b[1;33m=\u001b[0m \u001b[0mpd\u001b[0m\u001b[1;33m.\u001b[0m\u001b[0mread_csv\u001b[0m\u001b[1;33m(\u001b[0m\u001b[1;34m'FIFA17_official_data.csv'\u001b[0m\u001b[1;33m)\u001b[0m\u001b[1;33m\u001b[0m\u001b[1;33m\u001b[0m\u001b[0m\n\u001b[1;32m----> 2\u001b[1;33m \u001b[0mdf19_cleaned\u001b[0m\u001b[1;33m,\u001b[0m \u001b[0mr2_lr_19\u001b[0m\u001b[1;33m,\u001b[0m \u001b[0mr2_xgb_19\u001b[0m \u001b[1;33m=\u001b[0m  \u001b[0mmaster_function\u001b[0m\u001b[1;33m(\u001b[0m\u001b[0mdict_null\u001b[0m\u001b[1;33m,\u001b[0m \u001b[0mX_train\u001b[0m\u001b[1;33m.\u001b[0m\u001b[0mcolumns\u001b[0m\u001b[1;33m,\u001b[0m \u001b[0mdf19_full\u001b[0m\u001b[1;33m,\u001b[0m \u001b[0mdict_functions\u001b[0m\u001b[1;33m,\u001b[0m \u001b[0mregr\u001b[0m\u001b[1;33m,\u001b[0m\u001b[0mxgb_regr\u001b[0m\u001b[1;33m)\u001b[0m\u001b[1;33m\u001b[0m\u001b[1;33m\u001b[0m\u001b[0m\n\u001b[0m",
      "\u001b[1;32m~\\AppData\\Local\\Temp/ipykernel_396/2036979868.py\u001b[0m in \u001b[0;36mmaster_function\u001b[1;34m(dict_null, X_train_columns, df_input, dict_functions, lr_model, xgb_model)\u001b[0m\n\u001b[0;32m      6\u001b[0m     \u001b[0mdf_orig\u001b[0m \u001b[1;33m=\u001b[0m \u001b[0mdf_input\u001b[0m\u001b[1;33m.\u001b[0m\u001b[0mcopy\u001b[0m\u001b[1;33m(\u001b[0m\u001b[1;33m)\u001b[0m\u001b[1;33m\u001b[0m\u001b[1;33m\u001b[0m\u001b[0m\n\u001b[0;32m      7\u001b[0m     \u001b[1;32mfor\u001b[0m \u001b[0mx\u001b[0m \u001b[1;32min\u001b[0m \u001b[0mdict_functions\u001b[0m\u001b[1;33m.\u001b[0m\u001b[0mkeys\u001b[0m\u001b[1;33m(\u001b[0m\u001b[1;33m)\u001b[0m\u001b[1;33m:\u001b[0m\u001b[1;33m\u001b[0m\u001b[1;33m\u001b[0m\u001b[0m\n\u001b[1;32m----> 8\u001b[1;33m         \u001b[0mdf_input\u001b[0m\u001b[1;33m[\u001b[0m\u001b[0mx\u001b[0m\u001b[1;33m]\u001b[0m \u001b[1;33m=\u001b[0m \u001b[0mdf_input\u001b[0m\u001b[1;33m[\u001b[0m\u001b[0mx\u001b[0m\u001b[1;33m]\u001b[0m\u001b[1;33m.\u001b[0m\u001b[0mapply\u001b[0m\u001b[1;33m(\u001b[0m\u001b[0mdict_functions\u001b[0m\u001b[1;33m[\u001b[0m\u001b[0mx\u001b[0m\u001b[1;33m]\u001b[0m\u001b[1;33m)\u001b[0m\u001b[1;33m\u001b[0m\u001b[1;33m\u001b[0m\u001b[0m\n\u001b[0m\u001b[0;32m      9\u001b[0m     \u001b[1;32mfor\u001b[0m \u001b[0mx\u001b[0m \u001b[1;32min\u001b[0m \u001b[0mdict_null\u001b[0m\u001b[1;33m.\u001b[0m\u001b[0mkeys\u001b[0m\u001b[1;33m(\u001b[0m\u001b[1;33m)\u001b[0m\u001b[1;33m:\u001b[0m\u001b[1;33m\u001b[0m\u001b[1;33m\u001b[0m\u001b[0m\n\u001b[0;32m     10\u001b[0m         \u001b[0mdf_input\u001b[0m\u001b[1;33m[\u001b[0m\u001b[0mx\u001b[0m\u001b[1;33m]\u001b[0m\u001b[1;33m.\u001b[0m\u001b[0mfillna\u001b[0m\u001b[1;33m(\u001b[0m\u001b[0mdict_null\u001b[0m\u001b[1;33m[\u001b[0m\u001b[0mx\u001b[0m\u001b[1;33m]\u001b[0m\u001b[1;33m,\u001b[0m\u001b[0minplace\u001b[0m\u001b[1;33m=\u001b[0m\u001b[1;32mTrue\u001b[0m\u001b[1;33m)\u001b[0m\u001b[1;33m\u001b[0m\u001b[1;33m\u001b[0m\u001b[0m\n",
      "\u001b[1;32me:\\software stuff\\soft\\python\\lib\\site-packages\\pandas\\core\\frame.py\u001b[0m in \u001b[0;36m__getitem__\u001b[1;34m(self, key)\u001b[0m\n\u001b[0;32m   3456\u001b[0m             \u001b[1;32mif\u001b[0m \u001b[0mself\u001b[0m\u001b[1;33m.\u001b[0m\u001b[0mcolumns\u001b[0m\u001b[1;33m.\u001b[0m\u001b[0mnlevels\u001b[0m \u001b[1;33m>\u001b[0m \u001b[1;36m1\u001b[0m\u001b[1;33m:\u001b[0m\u001b[1;33m\u001b[0m\u001b[1;33m\u001b[0m\u001b[0m\n\u001b[0;32m   3457\u001b[0m                 \u001b[1;32mreturn\u001b[0m \u001b[0mself\u001b[0m\u001b[1;33m.\u001b[0m\u001b[0m_getitem_multilevel\u001b[0m\u001b[1;33m(\u001b[0m\u001b[0mkey\u001b[0m\u001b[1;33m)\u001b[0m\u001b[1;33m\u001b[0m\u001b[1;33m\u001b[0m\u001b[0m\n\u001b[1;32m-> 3458\u001b[1;33m             \u001b[0mindexer\u001b[0m \u001b[1;33m=\u001b[0m \u001b[0mself\u001b[0m\u001b[1;33m.\u001b[0m\u001b[0mcolumns\u001b[0m\u001b[1;33m.\u001b[0m\u001b[0mget_loc\u001b[0m\u001b[1;33m(\u001b[0m\u001b[0mkey\u001b[0m\u001b[1;33m)\u001b[0m\u001b[1;33m\u001b[0m\u001b[1;33m\u001b[0m\u001b[0m\n\u001b[0m\u001b[0;32m   3459\u001b[0m             \u001b[1;32mif\u001b[0m \u001b[0mis_integer\u001b[0m\u001b[1;33m(\u001b[0m\u001b[0mindexer\u001b[0m\u001b[1;33m)\u001b[0m\u001b[1;33m:\u001b[0m\u001b[1;33m\u001b[0m\u001b[1;33m\u001b[0m\u001b[0m\n\u001b[0;32m   3460\u001b[0m                 \u001b[0mindexer\u001b[0m \u001b[1;33m=\u001b[0m \u001b[1;33m[\u001b[0m\u001b[0mindexer\u001b[0m\u001b[1;33m]\u001b[0m\u001b[1;33m\u001b[0m\u001b[1;33m\u001b[0m\u001b[0m\n",
      "\u001b[1;32me:\\software stuff\\soft\\python\\lib\\site-packages\\pandas\\core\\indexes\\base.py\u001b[0m in \u001b[0;36mget_loc\u001b[1;34m(self, key, method, tolerance)\u001b[0m\n\u001b[0;32m   3361\u001b[0m                 \u001b[1;32mreturn\u001b[0m \u001b[0mself\u001b[0m\u001b[1;33m.\u001b[0m\u001b[0m_engine\u001b[0m\u001b[1;33m.\u001b[0m\u001b[0mget_loc\u001b[0m\u001b[1;33m(\u001b[0m\u001b[0mcasted_key\u001b[0m\u001b[1;33m)\u001b[0m\u001b[1;33m\u001b[0m\u001b[1;33m\u001b[0m\u001b[0m\n\u001b[0;32m   3362\u001b[0m             \u001b[1;32mexcept\u001b[0m \u001b[0mKeyError\u001b[0m \u001b[1;32mas\u001b[0m \u001b[0merr\u001b[0m\u001b[1;33m:\u001b[0m\u001b[1;33m\u001b[0m\u001b[1;33m\u001b[0m\u001b[0m\n\u001b[1;32m-> 3363\u001b[1;33m                 \u001b[1;32mraise\u001b[0m \u001b[0mKeyError\u001b[0m\u001b[1;33m(\u001b[0m\u001b[0mkey\u001b[0m\u001b[1;33m)\u001b[0m \u001b[1;32mfrom\u001b[0m \u001b[0merr\u001b[0m\u001b[1;33m\u001b[0m\u001b[1;33m\u001b[0m\u001b[0m\n\u001b[0m\u001b[0;32m   3364\u001b[0m \u001b[1;33m\u001b[0m\u001b[0m\n\u001b[0;32m   3365\u001b[0m         \u001b[1;32mif\u001b[0m \u001b[0mis_scalar\u001b[0m\u001b[1;33m(\u001b[0m\u001b[0mkey\u001b[0m\u001b[1;33m)\u001b[0m \u001b[1;32mand\u001b[0m \u001b[0misna\u001b[0m\u001b[1;33m(\u001b[0m\u001b[0mkey\u001b[0m\u001b[1;33m)\u001b[0m \u001b[1;32mand\u001b[0m \u001b[1;32mnot\u001b[0m \u001b[0mself\u001b[0m\u001b[1;33m.\u001b[0m\u001b[0mhasnans\u001b[0m\u001b[1;33m:\u001b[0m\u001b[1;33m\u001b[0m\u001b[1;33m\u001b[0m\u001b[0m\n",
      "\u001b[1;31mKeyError\u001b[0m: 'Release Clause'"
     ]
    }
   ],
   "source": [
    "df19_full = pd.read_csv('FIFA19_official_data.csv')\n",
    "df19_cleaned, r2_lr_19, r2_xgb_19 =  master_function(dict_null, X_train.columns, df19_full, dict_functions, regr,xgb_regr)"
   ]
  },
  {
   "cell_type": "code",
   "execution_count": null,
   "metadata": {},
   "outputs": [],
   "source": []
  },
  {
   "cell_type": "code",
   "execution_count": 45,
   "metadata": {
    "ExecuteTime": {
     "end_time": "2021-12-25T08:46:15.962220Z",
     "start_time": "2021-12-25T08:46:15.944209Z"
    }
   },
   "outputs": [
    {
     "data": {
      "text/plain": [
       "((16710, 65), (17108, 65))"
      ]
     },
     "execution_count": 45,
     "metadata": {},
     "output_type": "execute_result"
    }
   ],
   "source": [
    "df22_full.shape, df21_full.shape"
   ]
  },
  {
   "cell_type": "code",
   "execution_count": 46,
   "metadata": {
    "ExecuteTime": {
     "end_time": "2021-12-25T08:46:16.093311Z",
     "start_time": "2021-12-25T08:46:15.965222Z"
    }
   },
   "outputs": [],
   "source": [
    "for col in df22_full.columns:\n",
    "    if col not in df21_full.columns:\n",
    "        print(col)"
   ]
  },
  {
   "cell_type": "code",
   "execution_count": 47,
   "metadata": {
    "ExecuteTime": {
     "end_time": "2021-12-25T08:46:16.350487Z",
     "start_time": "2021-12-25T08:46:16.098312Z"
    }
   },
   "outputs": [
    {
     "name": "stdout",
     "output_type": "stream",
     "text": [
      "ID 192985 209658\n",
      "Name  K. De Bruyne L. Goretzka\n",
      "Age 29 26\n",
      "Photo https://cdn.sofifa.com/players/192/985/20_60.png https://cdn.sofifa.com/players/209/658/22_60.png\n",
      "Nationality Belgium Germany\n",
      "Flag https://cdn.sofifa.com/flags/be.png https://cdn.sofifa.com/flags/de.png\n",
      "Overall 91 87\n",
      "Potential 91 88\n",
      "Club Manchester City FC Bayern München\n",
      "Club Logo https://cdn.sofifa.com/teams/10/light_30.png https://cdn.sofifa.com/teams/21/30.png\n",
      "Value 87000.0 €93M\n",
      "Wage 370.0 €140K\n",
      "Special 2304 2314\n",
      "Preferred Foot 1 Right\n",
      "International Reputation 4.0 4.0\n",
      "Weak Foot 5.0 4.0\n",
      "Skill Moves 4.0 3.0\n",
      "Work Rate High/ High High/ Medium\n",
      "Body Type PLAYER_BODY_TYPE_321 Unique\n",
      "Real Face Yes Yes\n",
      "Position <span class=\"pos pos13\">RCM <span class=\"pos pos11\">LDM\n",
      "Jersey Number 17.0 8.0\n",
      "Joined Aug 30, 2015 Jul 1, 2018\n",
      "Loaned From nan nan\n",
      "Contract Valid Until 2023 2026\n",
      "Height 180 189cm\n",
      "Weight 69 82kg\n",
      "Crossing 94.0 75.0\n",
      "Finishing 82.0 82.0\n",
      "HeadingAccuracy 55.0 86.0\n",
      "ShortPassing 94.0 86.0\n",
      "Volleys 82.0 69.0\n",
      "Dribbling 88.0 84.0\n",
      "Curve 85.0 76.0\n",
      "FKAccuracy 83.0 75.0\n",
      "LongPassing 93.0 84.0\n",
      "BallControl 92.0 87.0\n",
      "Acceleration 77.0 78.0\n",
      "SprintSpeed 76.0 83.0\n",
      "Agility 78.0 76.0\n",
      "Reactions 91.0 88.0\n",
      "Balance 76.0 71.0\n",
      "ShotPower 91.0 85.0\n",
      "Jumping 63.0 79.0\n",
      "Stamina 89.0 88.0\n",
      "Strength 74.0 88.0\n",
      "LongShots 91.0 86.0\n",
      "Aggression 76.0 81.0\n",
      "Interceptions 66.0 86.0\n",
      "Positioning 88.0 85.0\n",
      "Vision 94.0 84.0\n",
      "Penalties 84.0 60.0\n",
      "Composure 91.0 82.0\n",
      "Marking nan nan\n",
      "StandingTackle 65.0 85.0\n",
      "SlidingTackle 53.0 77.0\n",
      "GKDiving 15.0 13.0\n",
      "GKHandling 13.0 8.0\n",
      "GKKicking 5.0 15.0\n",
      "GKPositioning 10.0 11.0\n",
      "GKReflexes 13.0 9.0\n",
      "Best Position CAM CM\n",
      "Best Overall Rating 91.0 87.0\n",
      "Release Clause 161000.0 €160.4M\n",
      "DefensiveAwareness 68.0 74.0\n"
     ]
    }
   ],
   "source": [
    "for col in df21_full.columns:\n",
    "    print(col, df21_full.loc[1, col], df22_full.loc[1, col])"
   ]
  },
  {
   "cell_type": "code",
   "execution_count": 48,
   "metadata": {
    "ExecuteTime": {
     "end_time": "2021-12-25T08:46:16.373502Z",
     "start_time": "2021-12-25T08:46:16.361494Z"
    }
   },
   "outputs": [
    {
     "data": {
      "text/plain": [
       "array([182, 180, 177, 175, 172, 185, 187, 190, 170, 167, 165, 193, 198,\n",
       "       162, 195, 157, 160, 154, 200, 203, 205], dtype=int64)"
      ]
     },
     "execution_count": 48,
     "metadata": {},
     "output_type": "execute_result"
    }
   ],
   "source": [
    "df21_full['Height'].unique()"
   ]
  },
  {
   "cell_type": "code",
   "execution_count": 49,
   "metadata": {
    "ExecuteTime": {
     "end_time": "2021-12-25T08:46:16.485577Z",
     "start_time": "2021-12-25T08:46:16.384508Z"
    }
   },
   "outputs": [
    {
     "data": {
      "text/plain": [
       "array([ 86,  69,  68,  73,  71,  79,  64,  82,  76,  66,  78,  74,  81,\n",
       "        83,  72,  67,  77,  62,  87,  60,  84,  88,  59,  63,  91,  92,\n",
       "        89,  93,  58,  94,  96,  99,  55,  57,  54,  97,  53, 103, 110,\n",
       "       101,  49,  98,  52, 102, 107], dtype=int64)"
      ]
     },
     "execution_count": 49,
     "metadata": {},
     "output_type": "execute_result"
    }
   ],
   "source": [
    "df21_full['Weight'].unique()"
   ]
  },
  {
   "cell_type": "code",
   "execution_count": 50,
   "metadata": {
    "ExecuteTime": {
     "end_time": "2021-12-25T08:46:16.583760Z",
     "start_time": "2021-12-25T08:46:16.491581Z"
    }
   },
   "outputs": [
    {
     "data": {
      "text/plain": [
       "((17108, 65), (16710, 47))"
      ]
     },
     "execution_count": 50,
     "metadata": {},
     "output_type": "execute_result"
    }
   ],
   "source": [
    "df21_full.shape, df22.shape"
   ]
  },
  {
   "cell_type": "code",
   "execution_count": null,
   "metadata": {},
   "outputs": [],
   "source": []
  },
  {
   "cell_type": "code",
   "execution_count": null,
   "metadata": {},
   "outputs": [],
   "source": []
  },
  {
   "cell_type": "markdown",
   "metadata": {},
   "source": [
    "# tasks or ideas"
   ]
  },
  {
   "cell_type": "raw",
   "metadata": {},
   "source": [
    "1 create a ml model between overall rating with othr features as IDv's\n",
    "2 wages, potential, rating , bayern strength check, height vs best, age vs best , best for each positions for country and overall, "
   ]
  },
  {
   "cell_type": "code",
   "execution_count": null,
   "metadata": {},
   "outputs": [],
   "source": []
  },
  {
   "cell_type": "code",
   "execution_count": null,
   "metadata": {},
   "outputs": [],
   "source": []
  },
  {
   "cell_type": "code",
   "execution_count": null,
   "metadata": {},
   "outputs": [],
   "source": []
  },
  {
   "cell_type": "code",
   "execution_count": 51,
   "metadata": {
    "ExecuteTime": {
     "end_time": "2021-12-25T08:46:17.523438Z",
     "start_time": "2021-12-25T08:46:16.587762Z"
    }
   },
   "outputs": [
    {
     "ename": "KeyError",
     "evalue": "\"['Best Overall Rating'] not in index\"",
     "output_type": "error",
     "traceback": [
      "\u001b[1;31m---------------------------------------------------------------------------\u001b[0m",
      "\u001b[1;31mKeyError\u001b[0m                                  Traceback (most recent call last)",
      "\u001b[1;32m~\\AppData\\Local\\Temp/ipykernel_396/415216180.py\u001b[0m in \u001b[0;36m<module>\u001b[1;34m\u001b[0m\n\u001b[1;32m----> 1\u001b[1;33m \u001b[0mdf22\u001b[0m\u001b[1;33m[\u001b[0m\u001b[1;33m[\u001b[0m\u001b[1;34m'Wage'\u001b[0m\u001b[1;33m,\u001b[0m \u001b[1;34m'Age'\u001b[0m\u001b[1;33m,\u001b[0m \u001b[1;34m'Overall'\u001b[0m\u001b[1;33m,\u001b[0m \u001b[1;34m'Best Overall Rating'\u001b[0m\u001b[1;33m,\u001b[0m \u001b[1;34m'Release Clause'\u001b[0m\u001b[1;33m]\u001b[0m\u001b[1;33m]\u001b[0m\u001b[1;33m.\u001b[0m\u001b[0msort_values\u001b[0m\u001b[1;33m(\u001b[0m\u001b[1;33m[\u001b[0m\u001b[1;34m'Wage'\u001b[0m\u001b[1;33m]\u001b[0m\u001b[1;33m,\u001b[0m \u001b[0mascending\u001b[0m \u001b[1;33m=\u001b[0m \u001b[1;32mFalse\u001b[0m\u001b[1;33m)\u001b[0m\u001b[1;33m.\u001b[0m\u001b[0mhead\u001b[0m\u001b[1;33m(\u001b[0m\u001b[1;36m50\u001b[0m\u001b[1;33m)\u001b[0m\u001b[1;33m\u001b[0m\u001b[1;33m\u001b[0m\u001b[0m\n\u001b[0m",
      "\u001b[1;32me:\\software stuff\\soft\\python\\lib\\site-packages\\pandas\\core\\frame.py\u001b[0m in \u001b[0;36m__getitem__\u001b[1;34m(self, key)\u001b[0m\n\u001b[0;32m   3462\u001b[0m             \u001b[1;32mif\u001b[0m \u001b[0mis_iterator\u001b[0m\u001b[1;33m(\u001b[0m\u001b[0mkey\u001b[0m\u001b[1;33m)\u001b[0m\u001b[1;33m:\u001b[0m\u001b[1;33m\u001b[0m\u001b[1;33m\u001b[0m\u001b[0m\n\u001b[0;32m   3463\u001b[0m                 \u001b[0mkey\u001b[0m \u001b[1;33m=\u001b[0m \u001b[0mlist\u001b[0m\u001b[1;33m(\u001b[0m\u001b[0mkey\u001b[0m\u001b[1;33m)\u001b[0m\u001b[1;33m\u001b[0m\u001b[1;33m\u001b[0m\u001b[0m\n\u001b[1;32m-> 3464\u001b[1;33m             \u001b[0mindexer\u001b[0m \u001b[1;33m=\u001b[0m \u001b[0mself\u001b[0m\u001b[1;33m.\u001b[0m\u001b[0mloc\u001b[0m\u001b[1;33m.\u001b[0m\u001b[0m_get_listlike_indexer\u001b[0m\u001b[1;33m(\u001b[0m\u001b[0mkey\u001b[0m\u001b[1;33m,\u001b[0m \u001b[0maxis\u001b[0m\u001b[1;33m=\u001b[0m\u001b[1;36m1\u001b[0m\u001b[1;33m)\u001b[0m\u001b[1;33m[\u001b[0m\u001b[1;36m1\u001b[0m\u001b[1;33m]\u001b[0m\u001b[1;33m\u001b[0m\u001b[1;33m\u001b[0m\u001b[0m\n\u001b[0m\u001b[0;32m   3465\u001b[0m \u001b[1;33m\u001b[0m\u001b[0m\n\u001b[0;32m   3466\u001b[0m         \u001b[1;31m# take() does not accept boolean indexers\u001b[0m\u001b[1;33m\u001b[0m\u001b[1;33m\u001b[0m\u001b[1;33m\u001b[0m\u001b[0m\n",
      "\u001b[1;32me:\\software stuff\\soft\\python\\lib\\site-packages\\pandas\\core\\indexing.py\u001b[0m in \u001b[0;36m_get_listlike_indexer\u001b[1;34m(self, key, axis)\u001b[0m\n\u001b[0;32m   1312\u001b[0m             \u001b[0mkeyarr\u001b[0m\u001b[1;33m,\u001b[0m \u001b[0mindexer\u001b[0m\u001b[1;33m,\u001b[0m \u001b[0mnew_indexer\u001b[0m \u001b[1;33m=\u001b[0m \u001b[0max\u001b[0m\u001b[1;33m.\u001b[0m\u001b[0m_reindex_non_unique\u001b[0m\u001b[1;33m(\u001b[0m\u001b[0mkeyarr\u001b[0m\u001b[1;33m)\u001b[0m\u001b[1;33m\u001b[0m\u001b[1;33m\u001b[0m\u001b[0m\n\u001b[0;32m   1313\u001b[0m \u001b[1;33m\u001b[0m\u001b[0m\n\u001b[1;32m-> 1314\u001b[1;33m         \u001b[0mself\u001b[0m\u001b[1;33m.\u001b[0m\u001b[0m_validate_read_indexer\u001b[0m\u001b[1;33m(\u001b[0m\u001b[0mkeyarr\u001b[0m\u001b[1;33m,\u001b[0m \u001b[0mindexer\u001b[0m\u001b[1;33m,\u001b[0m \u001b[0maxis\u001b[0m\u001b[1;33m)\u001b[0m\u001b[1;33m\u001b[0m\u001b[1;33m\u001b[0m\u001b[0m\n\u001b[0m\u001b[0;32m   1315\u001b[0m \u001b[1;33m\u001b[0m\u001b[0m\n\u001b[0;32m   1316\u001b[0m         if needs_i8_conversion(ax.dtype) or isinstance(\n",
      "\u001b[1;32me:\\software stuff\\soft\\python\\lib\\site-packages\\pandas\\core\\indexing.py\u001b[0m in \u001b[0;36m_validate_read_indexer\u001b[1;34m(self, key, indexer, axis)\u001b[0m\n\u001b[0;32m   1375\u001b[0m \u001b[1;33m\u001b[0m\u001b[0m\n\u001b[0;32m   1376\u001b[0m             \u001b[0mnot_found\u001b[0m \u001b[1;33m=\u001b[0m \u001b[0mlist\u001b[0m\u001b[1;33m(\u001b[0m\u001b[0mensure_index\u001b[0m\u001b[1;33m(\u001b[0m\u001b[0mkey\u001b[0m\u001b[1;33m)\u001b[0m\u001b[1;33m[\u001b[0m\u001b[0mmissing_mask\u001b[0m\u001b[1;33m.\u001b[0m\u001b[0mnonzero\u001b[0m\u001b[1;33m(\u001b[0m\u001b[1;33m)\u001b[0m\u001b[1;33m[\u001b[0m\u001b[1;36m0\u001b[0m\u001b[1;33m]\u001b[0m\u001b[1;33m]\u001b[0m\u001b[1;33m.\u001b[0m\u001b[0munique\u001b[0m\u001b[1;33m(\u001b[0m\u001b[1;33m)\u001b[0m\u001b[1;33m)\u001b[0m\u001b[1;33m\u001b[0m\u001b[1;33m\u001b[0m\u001b[0m\n\u001b[1;32m-> 1377\u001b[1;33m             \u001b[1;32mraise\u001b[0m \u001b[0mKeyError\u001b[0m\u001b[1;33m(\u001b[0m\u001b[1;34mf\"{not_found} not in index\"\u001b[0m\u001b[1;33m)\u001b[0m\u001b[1;33m\u001b[0m\u001b[1;33m\u001b[0m\u001b[0m\n\u001b[0m\u001b[0;32m   1378\u001b[0m \u001b[1;33m\u001b[0m\u001b[0m\n\u001b[0;32m   1379\u001b[0m \u001b[1;33m\u001b[0m\u001b[0m\n",
      "\u001b[1;31mKeyError\u001b[0m: \"['Best Overall Rating'] not in index\""
     ]
    }
   ],
   "source": [
    "df22[['Wage', 'Age', 'Overall', 'Best Overall Rating', 'Release Clause']].sort_values(['Wage'], ascending = False).head(50)"
   ]
  },
  {
   "cell_type": "code",
   "execution_count": null,
   "metadata": {},
   "outputs": [],
   "source": []
  }
 ],
 "metadata": {
  "kernelspec": {
   "display_name": "Python 3 (ipykernel)",
   "language": "python",
   "name": "python3"
  },
  "language_info": {
   "codemirror_mode": {
    "name": "ipython",
    "version": 3
   },
   "file_extension": ".py",
   "mimetype": "text/x-python",
   "name": "python",
   "nbconvert_exporter": "python",
   "pygments_lexer": "ipython3",
   "version": "3.8.9"
  },
  "toc": {
   "base_numbering": 1,
   "nav_menu": {},
   "number_sections": true,
   "sideBar": true,
   "skip_h1_title": false,
   "title_cell": "Table of Contents",
   "title_sidebar": "Contents",
   "toc_cell": false,
   "toc_position": {
    "height": "calc(100% - 180px)",
    "left": "10px",
    "top": "150px",
    "width": "273.188px"
   },
   "toc_section_display": true,
   "toc_window_display": true
  }
 },
 "nbformat": 4,
 "nbformat_minor": 4
}
